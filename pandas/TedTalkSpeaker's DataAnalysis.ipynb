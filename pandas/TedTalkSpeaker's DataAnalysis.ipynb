{
 "cells": [
  {
   "cell_type": "code",
   "execution_count": 1,
   "metadata": {},
   "outputs": [],
   "source": [
    "import pandas as pd"
   ]
  },
  {
   "cell_type": "code",
   "execution_count": 2,
   "metadata": {},
   "outputs": [],
   "source": [
    "import matplotlib.pyplot as plt"
   ]
  },
  {
   "cell_type": "code",
   "execution_count": 3,
   "metadata": {},
   "outputs": [],
   "source": [
    "ted = pd.read_csv(\"/home/Mx/M_L/pandas/ted_main.csv\")"
   ]
  },
  {
   "cell_type": "code",
   "execution_count": 4,
   "metadata": {},
   "outputs": [
    {
     "data": {
      "text/html": [
       "<div>\n",
       "<style scoped>\n",
       "    .dataframe tbody tr th:only-of-type {\n",
       "        vertical-align: middle;\n",
       "    }\n",
       "\n",
       "    .dataframe tbody tr th {\n",
       "        vertical-align: top;\n",
       "    }\n",
       "\n",
       "    .dataframe thead th {\n",
       "        text-align: right;\n",
       "    }\n",
       "</style>\n",
       "<table border=\"1\" class=\"dataframe\">\n",
       "  <thead>\n",
       "    <tr style=\"text-align: right;\">\n",
       "      <th></th>\n",
       "      <th>comments</th>\n",
       "      <th>description</th>\n",
       "      <th>duration</th>\n",
       "      <th>event</th>\n",
       "      <th>film_date</th>\n",
       "      <th>languages</th>\n",
       "      <th>main_speaker</th>\n",
       "      <th>name</th>\n",
       "      <th>num_speaker</th>\n",
       "      <th>published_date</th>\n",
       "      <th>ratings</th>\n",
       "      <th>related_talks</th>\n",
       "      <th>speaker_occupation</th>\n",
       "      <th>tags</th>\n",
       "      <th>title</th>\n",
       "      <th>url</th>\n",
       "      <th>views</th>\n",
       "    </tr>\n",
       "  </thead>\n",
       "  <tbody>\n",
       "    <tr>\n",
       "      <td>0</td>\n",
       "      <td>4553</td>\n",
       "      <td>Sir Ken Robinson makes an entertaining and pro...</td>\n",
       "      <td>1164</td>\n",
       "      <td>TED2006</td>\n",
       "      <td>1140825600</td>\n",
       "      <td>60</td>\n",
       "      <td>Ken Robinson</td>\n",
       "      <td>Ken Robinson: Do schools kill creativity?</td>\n",
       "      <td>1</td>\n",
       "      <td>1151367060</td>\n",
       "      <td>[{'id': 7, 'name': 'Funny', 'count': 19645}, {...</td>\n",
       "      <td>[{'id': 865, 'hero': 'https://pe.tedcdn.com/im...</td>\n",
       "      <td>Author/educator</td>\n",
       "      <td>['children', 'creativity', 'culture', 'dance',...</td>\n",
       "      <td>Do schools kill creativity?</td>\n",
       "      <td>https://www.ted.com/talks/ken_robinson_says_sc...</td>\n",
       "      <td>47227110</td>\n",
       "    </tr>\n",
       "    <tr>\n",
       "      <td>1</td>\n",
       "      <td>265</td>\n",
       "      <td>With the same humor and humanity he exuded in ...</td>\n",
       "      <td>977</td>\n",
       "      <td>TED2006</td>\n",
       "      <td>1140825600</td>\n",
       "      <td>43</td>\n",
       "      <td>Al Gore</td>\n",
       "      <td>Al Gore: Averting the climate crisis</td>\n",
       "      <td>1</td>\n",
       "      <td>1151367060</td>\n",
       "      <td>[{'id': 7, 'name': 'Funny', 'count': 544}, {'i...</td>\n",
       "      <td>[{'id': 243, 'hero': 'https://pe.tedcdn.com/im...</td>\n",
       "      <td>Climate advocate</td>\n",
       "      <td>['alternative energy', 'cars', 'climate change...</td>\n",
       "      <td>Averting the climate crisis</td>\n",
       "      <td>https://www.ted.com/talks/al_gore_on_averting_...</td>\n",
       "      <td>3200520</td>\n",
       "    </tr>\n",
       "    <tr>\n",
       "      <td>2</td>\n",
       "      <td>124</td>\n",
       "      <td>New York Times columnist David Pogue takes aim...</td>\n",
       "      <td>1286</td>\n",
       "      <td>TED2006</td>\n",
       "      <td>1140739200</td>\n",
       "      <td>26</td>\n",
       "      <td>David Pogue</td>\n",
       "      <td>David Pogue: Simplicity sells</td>\n",
       "      <td>1</td>\n",
       "      <td>1151367060</td>\n",
       "      <td>[{'id': 7, 'name': 'Funny', 'count': 964}, {'i...</td>\n",
       "      <td>[{'id': 1725, 'hero': 'https://pe.tedcdn.com/i...</td>\n",
       "      <td>Technology columnist</td>\n",
       "      <td>['computers', 'entertainment', 'interface desi...</td>\n",
       "      <td>Simplicity sells</td>\n",
       "      <td>https://www.ted.com/talks/david_pogue_says_sim...</td>\n",
       "      <td>1636292</td>\n",
       "    </tr>\n",
       "    <tr>\n",
       "      <td>3</td>\n",
       "      <td>200</td>\n",
       "      <td>In an emotionally charged talk, MacArthur-winn...</td>\n",
       "      <td>1116</td>\n",
       "      <td>TED2006</td>\n",
       "      <td>1140912000</td>\n",
       "      <td>35</td>\n",
       "      <td>Majora Carter</td>\n",
       "      <td>Majora Carter: Greening the ghetto</td>\n",
       "      <td>1</td>\n",
       "      <td>1151367060</td>\n",
       "      <td>[{'id': 3, 'name': 'Courageous', 'count': 760}...</td>\n",
       "      <td>[{'id': 1041, 'hero': 'https://pe.tedcdn.com/i...</td>\n",
       "      <td>Activist for environmental justice</td>\n",
       "      <td>['MacArthur grant', 'activism', 'business', 'c...</td>\n",
       "      <td>Greening the ghetto</td>\n",
       "      <td>https://www.ted.com/talks/majora_carter_s_tale...</td>\n",
       "      <td>1697550</td>\n",
       "    </tr>\n",
       "    <tr>\n",
       "      <td>4</td>\n",
       "      <td>593</td>\n",
       "      <td>You've never seen data presented like this. Wi...</td>\n",
       "      <td>1190</td>\n",
       "      <td>TED2006</td>\n",
       "      <td>1140566400</td>\n",
       "      <td>48</td>\n",
       "      <td>Hans Rosling</td>\n",
       "      <td>Hans Rosling: The best stats you've ever seen</td>\n",
       "      <td>1</td>\n",
       "      <td>1151440680</td>\n",
       "      <td>[{'id': 9, 'name': 'Ingenious', 'count': 3202}...</td>\n",
       "      <td>[{'id': 2056, 'hero': 'https://pe.tedcdn.com/i...</td>\n",
       "      <td>Global health expert; data visionary</td>\n",
       "      <td>['Africa', 'Asia', 'Google', 'demo', 'economic...</td>\n",
       "      <td>The best stats you've ever seen</td>\n",
       "      <td>https://www.ted.com/talks/hans_rosling_shows_t...</td>\n",
       "      <td>12005869</td>\n",
       "    </tr>\n",
       "  </tbody>\n",
       "</table>\n",
       "</div>"
      ],
      "text/plain": [
       "   comments                                        description  duration  \\\n",
       "0      4553  Sir Ken Robinson makes an entertaining and pro...      1164   \n",
       "1       265  With the same humor and humanity he exuded in ...       977   \n",
       "2       124  New York Times columnist David Pogue takes aim...      1286   \n",
       "3       200  In an emotionally charged talk, MacArthur-winn...      1116   \n",
       "4       593  You've never seen data presented like this. Wi...      1190   \n",
       "\n",
       "     event   film_date  languages   main_speaker  \\\n",
       "0  TED2006  1140825600         60   Ken Robinson   \n",
       "1  TED2006  1140825600         43        Al Gore   \n",
       "2  TED2006  1140739200         26    David Pogue   \n",
       "3  TED2006  1140912000         35  Majora Carter   \n",
       "4  TED2006  1140566400         48   Hans Rosling   \n",
       "\n",
       "                                            name  num_speaker  published_date  \\\n",
       "0      Ken Robinson: Do schools kill creativity?            1      1151367060   \n",
       "1           Al Gore: Averting the climate crisis            1      1151367060   \n",
       "2                  David Pogue: Simplicity sells            1      1151367060   \n",
       "3             Majora Carter: Greening the ghetto            1      1151367060   \n",
       "4  Hans Rosling: The best stats you've ever seen            1      1151440680   \n",
       "\n",
       "                                             ratings  \\\n",
       "0  [{'id': 7, 'name': 'Funny', 'count': 19645}, {...   \n",
       "1  [{'id': 7, 'name': 'Funny', 'count': 544}, {'i...   \n",
       "2  [{'id': 7, 'name': 'Funny', 'count': 964}, {'i...   \n",
       "3  [{'id': 3, 'name': 'Courageous', 'count': 760}...   \n",
       "4  [{'id': 9, 'name': 'Ingenious', 'count': 3202}...   \n",
       "\n",
       "                                       related_talks  \\\n",
       "0  [{'id': 865, 'hero': 'https://pe.tedcdn.com/im...   \n",
       "1  [{'id': 243, 'hero': 'https://pe.tedcdn.com/im...   \n",
       "2  [{'id': 1725, 'hero': 'https://pe.tedcdn.com/i...   \n",
       "3  [{'id': 1041, 'hero': 'https://pe.tedcdn.com/i...   \n",
       "4  [{'id': 2056, 'hero': 'https://pe.tedcdn.com/i...   \n",
       "\n",
       "                     speaker_occupation  \\\n",
       "0                       Author/educator   \n",
       "1                      Climate advocate   \n",
       "2                  Technology columnist   \n",
       "3    Activist for environmental justice   \n",
       "4  Global health expert; data visionary   \n",
       "\n",
       "                                                tags  \\\n",
       "0  ['children', 'creativity', 'culture', 'dance',...   \n",
       "1  ['alternative energy', 'cars', 'climate change...   \n",
       "2  ['computers', 'entertainment', 'interface desi...   \n",
       "3  ['MacArthur grant', 'activism', 'business', 'c...   \n",
       "4  ['Africa', 'Asia', 'Google', 'demo', 'economic...   \n",
       "\n",
       "                             title  \\\n",
       "0      Do schools kill creativity?   \n",
       "1      Averting the climate crisis   \n",
       "2                 Simplicity sells   \n",
       "3              Greening the ghetto   \n",
       "4  The best stats you've ever seen   \n",
       "\n",
       "                                                 url     views  \n",
       "0  https://www.ted.com/talks/ken_robinson_says_sc...  47227110  \n",
       "1  https://www.ted.com/talks/al_gore_on_averting_...   3200520  \n",
       "2  https://www.ted.com/talks/david_pogue_says_sim...   1636292  \n",
       "3  https://www.ted.com/talks/majora_carter_s_tale...   1697550  \n",
       "4  https://www.ted.com/talks/hans_rosling_shows_t...  12005869  "
      ]
     },
     "execution_count": 4,
     "metadata": {},
     "output_type": "execute_result"
    }
   ],
   "source": [
    "ted.head()"
   ]
  },
  {
   "cell_type": "code",
   "execution_count": 5,
   "metadata": {},
   "outputs": [
    {
     "data": {
      "text/plain": [
       "(2550, 17)"
      ]
     },
     "execution_count": 5,
     "metadata": {},
     "output_type": "execute_result"
    }
   ],
   "source": [
    "ted.shape"
   ]
  },
  {
   "cell_type": "code",
   "execution_count": 6,
   "metadata": {},
   "outputs": [
    {
     "data": {
      "text/plain": [
       "comments               int64\n",
       "description           object\n",
       "duration               int64\n",
       "event                 object\n",
       "film_date              int64\n",
       "languages              int64\n",
       "main_speaker          object\n",
       "name                  object\n",
       "num_speaker            int64\n",
       "published_date         int64\n",
       "ratings               object\n",
       "related_talks         object\n",
       "speaker_occupation    object\n",
       "tags                  object\n",
       "title                 object\n",
       "url                   object\n",
       "views                  int64\n",
       "dtype: object"
      ]
     },
     "execution_count": 6,
     "metadata": {},
     "output_type": "execute_result"
    }
   ],
   "source": [
    "ted.dtypes  "
   ]
  },
  {
   "cell_type": "markdown",
   "metadata": {},
   "source": [
    "Data type object arbitary python objects lists,dictionary etc"
   ]
  },
  {
   "cell_type": "markdown",
   "metadata": {},
   "source": [
    "# Checking Null Value "
   ]
  },
  {
   "cell_type": "code",
   "execution_count": 7,
   "metadata": {},
   "outputs": [
    {
     "data": {
      "text/plain": [
       "comments              0\n",
       "description           0\n",
       "duration              0\n",
       "event                 0\n",
       "film_date             0\n",
       "languages             0\n",
       "main_speaker          0\n",
       "name                  0\n",
       "num_speaker           0\n",
       "published_date        0\n",
       "ratings               0\n",
       "related_talks         0\n",
       "speaker_occupation    6\n",
       "tags                  0\n",
       "title                 0\n",
       "url                   0\n",
       "views                 0\n",
       "dtype: int64"
      ]
     },
     "execution_count": 7,
     "metadata": {},
     "output_type": "execute_result"
    }
   ],
   "source": [
    "ted.isna().sum()"
   ]
  },
  {
   "cell_type": "markdown",
   "metadata": {},
   "source": [
    "Speaker_occupation has 6 null value"
   ]
  },
  {
   "cell_type": "markdown",
   "metadata": {},
   "source": [
    "# Which talks provoke the most online discussion"
   ]
  },
  {
   "cell_type": "code",
   "execution_count": 8,
   "metadata": {},
   "outputs": [
    {
     "data": {
      "text/html": [
       "<div>\n",
       "<style scoped>\n",
       "    .dataframe tbody tr th:only-of-type {\n",
       "        vertical-align: middle;\n",
       "    }\n",
       "\n",
       "    .dataframe tbody tr th {\n",
       "        vertical-align: top;\n",
       "    }\n",
       "\n",
       "    .dataframe thead th {\n",
       "        text-align: right;\n",
       "    }\n",
       "</style>\n",
       "<table border=\"1\" class=\"dataframe\">\n",
       "  <thead>\n",
       "    <tr style=\"text-align: right;\">\n",
       "      <th></th>\n",
       "      <th>comments</th>\n",
       "      <th>description</th>\n",
       "      <th>duration</th>\n",
       "      <th>event</th>\n",
       "      <th>film_date</th>\n",
       "      <th>languages</th>\n",
       "      <th>main_speaker</th>\n",
       "      <th>name</th>\n",
       "      <th>num_speaker</th>\n",
       "      <th>published_date</th>\n",
       "      <th>ratings</th>\n",
       "      <th>related_talks</th>\n",
       "      <th>speaker_occupation</th>\n",
       "      <th>tags</th>\n",
       "      <th>title</th>\n",
       "      <th>url</th>\n",
       "      <th>views</th>\n",
       "    </tr>\n",
       "  </thead>\n",
       "  <tbody>\n",
       "    <tr>\n",
       "      <td>2534</td>\n",
       "      <td>2</td>\n",
       "      <td>What the astronauts felt when they saw Earth f...</td>\n",
       "      <td>725</td>\n",
       "      <td>TEDxSkoll</td>\n",
       "      <td>1491523200</td>\n",
       "      <td>1</td>\n",
       "      <td>Benjamin Grant</td>\n",
       "      <td>Benjamin Grant: What it feels like to see Eart...</td>\n",
       "      <td>1</td>\n",
       "      <td>1504814438</td>\n",
       "      <td>[{'id': 10, 'name': 'Inspiring', 'count': 46},...</td>\n",
       "      <td>[{'id': 2511, 'hero': 'https://pe.tedcdn.com/i...</td>\n",
       "      <td>Author</td>\n",
       "      <td>['TEDx', 'art', 'climate change', 'environment...</td>\n",
       "      <td>What it feels like to see Earth from space</td>\n",
       "      <td>https://www.ted.com/talks/benjamin_grant_what_...</td>\n",
       "      <td>646174</td>\n",
       "    </tr>\n",
       "    <tr>\n",
       "      <td>2542</td>\n",
       "      <td>3</td>\n",
       "      <td>In the century-old statues that occupy Cape To...</td>\n",
       "      <td>795</td>\n",
       "      <td>TEDGlobal 2017</td>\n",
       "      <td>1503792000</td>\n",
       "      <td>1</td>\n",
       "      <td>Sethembile Msezane</td>\n",
       "      <td>Sethembile Msezane: Living sculptures that sta...</td>\n",
       "      <td>1</td>\n",
       "      <td>1505488093</td>\n",
       "      <td>[{'id': 1, 'name': 'Beautiful', 'count': 41}, ...</td>\n",
       "      <td>[{'id': 2873, 'hero': 'https://pe.tedcdn.com/i...</td>\n",
       "      <td>Artist</td>\n",
       "      <td>['Africa', 'activism', 'art', 'community', 'hi...</td>\n",
       "      <td>Living sculptures that stand for history's truths</td>\n",
       "      <td>https://www.ted.com/talks/sethembile_msezane_l...</td>\n",
       "      <td>542088</td>\n",
       "    </tr>\n",
       "    <tr>\n",
       "      <td>2528</td>\n",
       "      <td>3</td>\n",
       "      <td>Digital archaeologist Chance Coughenour is usi...</td>\n",
       "      <td>717</td>\n",
       "      <td>TEDxHamburg</td>\n",
       "      <td>1465344000</td>\n",
       "      <td>5</td>\n",
       "      <td>Chance Coughenour</td>\n",
       "      <td>Chance Coughenour: How your pictures can help ...</td>\n",
       "      <td>1</td>\n",
       "      <td>1504209631</td>\n",
       "      <td>[{'id': 9, 'name': 'Ingenious', 'count': 16}, ...</td>\n",
       "      <td>[{'id': 2673, 'hero': 'https://pe.tedcdn.com/i...</td>\n",
       "      <td>Digital archaeologist</td>\n",
       "      <td>['TEDx', 'ancient world', 'archaeology', 'cons...</td>\n",
       "      <td>How your pictures can help reclaim lost history</td>\n",
       "      <td>https://www.ted.com/talks/chance_coughenour_ho...</td>\n",
       "      <td>539207</td>\n",
       "    </tr>\n",
       "    <tr>\n",
       "      <td>2501</td>\n",
       "      <td>3</td>\n",
       "      <td>Meet Françoise Mouly, The New Yorker's art dir...</td>\n",
       "      <td>509</td>\n",
       "      <td>TEDNYC</td>\n",
       "      <td>1488931200</td>\n",
       "      <td>12</td>\n",
       "      <td>Françoise Mouly</td>\n",
       "      <td>Françoise Mouly: The stories behind The New Yo...</td>\n",
       "      <td>1</td>\n",
       "      <td>1501770244</td>\n",
       "      <td>[{'id': 7, 'name': 'Funny', 'count': 10}, {'id...</td>\n",
       "      <td>[{'id': 2479, 'hero': 'https://pe.tedcdn.com/i...</td>\n",
       "      <td>Art editor</td>\n",
       "      <td>['TEDNYC', 'art', 'creativity', 'culture', 'de...</td>\n",
       "      <td>The stories behind The New Yorker's iconic covers</td>\n",
       "      <td>https://www.ted.com/talks/francoise_mouly_the_...</td>\n",
       "      <td>839040</td>\n",
       "    </tr>\n",
       "    <tr>\n",
       "      <td>2407</td>\n",
       "      <td>5</td>\n",
       "      <td>Grammy-winning Silk Road Ensemble display thei...</td>\n",
       "      <td>389</td>\n",
       "      <td>TED2016</td>\n",
       "      <td>1455494400</td>\n",
       "      <td>0</td>\n",
       "      <td>Silk Road Ensemble</td>\n",
       "      <td>Silk Road Ensemble: \"Turceasca\"</td>\n",
       "      <td>1</td>\n",
       "      <td>1489759215</td>\n",
       "      <td>[{'id': 1, 'name': 'Beautiful', 'count': 80}, ...</td>\n",
       "      <td>[{'id': 2611, 'hero': 'https://pe.tedcdn.com/i...</td>\n",
       "      <td>Musical explorers</td>\n",
       "      <td>['art', 'live music', 'music', 'performance']</td>\n",
       "      <td>\"Turceasca\"</td>\n",
       "      <td>https://www.ted.com/talks/silk_road_ensemble_t...</td>\n",
       "      <td>640734</td>\n",
       "    </tr>\n",
       "    <tr>\n",
       "      <td>...</td>\n",
       "      <td>...</td>\n",
       "      <td>...</td>\n",
       "      <td>...</td>\n",
       "      <td>...</td>\n",
       "      <td>...</td>\n",
       "      <td>...</td>\n",
       "      <td>...</td>\n",
       "      <td>...</td>\n",
       "      <td>...</td>\n",
       "      <td>...</td>\n",
       "      <td>...</td>\n",
       "      <td>...</td>\n",
       "      <td>...</td>\n",
       "      <td>...</td>\n",
       "      <td>...</td>\n",
       "      <td>...</td>\n",
       "      <td>...</td>\n",
       "    </tr>\n",
       "    <tr>\n",
       "      <td>1787</td>\n",
       "      <td>2673</td>\n",
       "      <td>Our consciousness is a fundamental aspect of o...</td>\n",
       "      <td>1117</td>\n",
       "      <td>TED2014</td>\n",
       "      <td>1395100800</td>\n",
       "      <td>33</td>\n",
       "      <td>David Chalmers</td>\n",
       "      <td>David Chalmers: How do you explain consciousness?</td>\n",
       "      <td>1</td>\n",
       "      <td>1405350484</td>\n",
       "      <td>[{'id': 25, 'name': 'OK', 'count': 280}, {'id'...</td>\n",
       "      <td>[{'id': 1308, 'hero': 'https://pe.tedcdn.com/i...</td>\n",
       "      <td>Philosopher</td>\n",
       "      <td>['brain', 'consciousness', 'neuroscience', 'ph...</td>\n",
       "      <td>How do you explain consciousness?</td>\n",
       "      <td>https://www.ted.com/talks/david_chalmers_how_d...</td>\n",
       "      <td>2162764</td>\n",
       "    </tr>\n",
       "    <tr>\n",
       "      <td>201</td>\n",
       "      <td>2877</td>\n",
       "      <td>Jill Bolte Taylor got a research opportunity f...</td>\n",
       "      <td>1099</td>\n",
       "      <td>TED2008</td>\n",
       "      <td>1204070400</td>\n",
       "      <td>49</td>\n",
       "      <td>Jill Bolte Taylor</td>\n",
       "      <td>Jill Bolte Taylor: My stroke of insight</td>\n",
       "      <td>1</td>\n",
       "      <td>1205284200</td>\n",
       "      <td>[{'id': 22, 'name': 'Fascinating', 'count': 14...</td>\n",
       "      <td>[{'id': 184, 'hero': 'https://pe.tedcdn.com/im...</td>\n",
       "      <td>Neuroanatomist</td>\n",
       "      <td>['biology', 'brain', 'consciousness', 'global ...</td>\n",
       "      <td>My stroke of insight</td>\n",
       "      <td>https://www.ted.com/talks/jill_bolte_taylor_s_...</td>\n",
       "      <td>21190883</td>\n",
       "    </tr>\n",
       "    <tr>\n",
       "      <td>644</td>\n",
       "      <td>3356</td>\n",
       "      <td>Questions of good and evil, right and wrong ar...</td>\n",
       "      <td>1386</td>\n",
       "      <td>TED2010</td>\n",
       "      <td>1265846400</td>\n",
       "      <td>39</td>\n",
       "      <td>Sam Harris</td>\n",
       "      <td>Sam Harris: Science can answer moral questions</td>\n",
       "      <td>1</td>\n",
       "      <td>1269249180</td>\n",
       "      <td>[{'id': 8, 'name': 'Informative', 'count': 923...</td>\n",
       "      <td>[{'id': 666, 'hero': 'https://pe.tedcdn.com/im...</td>\n",
       "      <td>Neuroscientist, philosopher</td>\n",
       "      <td>['culture', 'evolutionary psychology', 'global...</td>\n",
       "      <td>Science can answer moral questions</td>\n",
       "      <td>https://www.ted.com/talks/sam_harris_science_c...</td>\n",
       "      <td>3433437</td>\n",
       "    </tr>\n",
       "    <tr>\n",
       "      <td>0</td>\n",
       "      <td>4553</td>\n",
       "      <td>Sir Ken Robinson makes an entertaining and pro...</td>\n",
       "      <td>1164</td>\n",
       "      <td>TED2006</td>\n",
       "      <td>1140825600</td>\n",
       "      <td>60</td>\n",
       "      <td>Ken Robinson</td>\n",
       "      <td>Ken Robinson: Do schools kill creativity?</td>\n",
       "      <td>1</td>\n",
       "      <td>1151367060</td>\n",
       "      <td>[{'id': 7, 'name': 'Funny', 'count': 19645}, {...</td>\n",
       "      <td>[{'id': 865, 'hero': 'https://pe.tedcdn.com/im...</td>\n",
       "      <td>Author/educator</td>\n",
       "      <td>['children', 'creativity', 'culture', 'dance',...</td>\n",
       "      <td>Do schools kill creativity?</td>\n",
       "      <td>https://www.ted.com/talks/ken_robinson_says_sc...</td>\n",
       "      <td>47227110</td>\n",
       "    </tr>\n",
       "    <tr>\n",
       "      <td>96</td>\n",
       "      <td>6404</td>\n",
       "      <td>Richard Dawkins urges all atheists to openly s...</td>\n",
       "      <td>1750</td>\n",
       "      <td>TED2002</td>\n",
       "      <td>1012608000</td>\n",
       "      <td>42</td>\n",
       "      <td>Richard Dawkins</td>\n",
       "      <td>Richard Dawkins: Militant atheism</td>\n",
       "      <td>1</td>\n",
       "      <td>1176689220</td>\n",
       "      <td>[{'id': 3, 'name': 'Courageous', 'count': 3236...</td>\n",
       "      <td>[{'id': 86, 'hero': 'https://pe.tedcdn.com/ima...</td>\n",
       "      <td>Evolutionary biologist</td>\n",
       "      <td>['God', 'atheism', 'culture', 'religion', 'sci...</td>\n",
       "      <td>Militant atheism</td>\n",
       "      <td>https://www.ted.com/talks/richard_dawkins_on_m...</td>\n",
       "      <td>4374792</td>\n",
       "    </tr>\n",
       "  </tbody>\n",
       "</table>\n",
       "<p>2550 rows × 17 columns</p>\n",
       "</div>"
      ],
      "text/plain": [
       "      comments                                        description  duration  \\\n",
       "2534         2  What the astronauts felt when they saw Earth f...       725   \n",
       "2542         3  In the century-old statues that occupy Cape To...       795   \n",
       "2528         3  Digital archaeologist Chance Coughenour is usi...       717   \n",
       "2501         3  Meet Françoise Mouly, The New Yorker's art dir...       509   \n",
       "2407         5  Grammy-winning Silk Road Ensemble display thei...       389   \n",
       "...        ...                                                ...       ...   \n",
       "1787      2673  Our consciousness is a fundamental aspect of o...      1117   \n",
       "201       2877  Jill Bolte Taylor got a research opportunity f...      1099   \n",
       "644       3356  Questions of good and evil, right and wrong ar...      1386   \n",
       "0         4553  Sir Ken Robinson makes an entertaining and pro...      1164   \n",
       "96        6404  Richard Dawkins urges all atheists to openly s...      1750   \n",
       "\n",
       "               event   film_date  languages         main_speaker  \\\n",
       "2534       TEDxSkoll  1491523200          1       Benjamin Grant   \n",
       "2542  TEDGlobal 2017  1503792000          1   Sethembile Msezane   \n",
       "2528     TEDxHamburg  1465344000          5    Chance Coughenour   \n",
       "2501          TEDNYC  1488931200         12      Françoise Mouly   \n",
       "2407         TED2016  1455494400          0   Silk Road Ensemble   \n",
       "...              ...         ...        ...                  ...   \n",
       "1787         TED2014  1395100800         33       David Chalmers   \n",
       "201          TED2008  1204070400         49    Jill Bolte Taylor   \n",
       "644          TED2010  1265846400         39           Sam Harris   \n",
       "0            TED2006  1140825600         60         Ken Robinson   \n",
       "96           TED2002  1012608000         42      Richard Dawkins   \n",
       "\n",
       "                                                   name  num_speaker  \\\n",
       "2534  Benjamin Grant: What it feels like to see Eart...            1   \n",
       "2542  Sethembile Msezane: Living sculptures that sta...            1   \n",
       "2528  Chance Coughenour: How your pictures can help ...            1   \n",
       "2501  Françoise Mouly: The stories behind The New Yo...            1   \n",
       "2407                    Silk Road Ensemble: \"Turceasca\"            1   \n",
       "...                                                 ...          ...   \n",
       "1787  David Chalmers: How do you explain consciousness?            1   \n",
       "201             Jill Bolte Taylor: My stroke of insight            1   \n",
       "644      Sam Harris: Science can answer moral questions            1   \n",
       "0             Ken Robinson: Do schools kill creativity?            1   \n",
       "96                    Richard Dawkins: Militant atheism            1   \n",
       "\n",
       "      published_date                                            ratings  \\\n",
       "2534      1504814438  [{'id': 10, 'name': 'Inspiring', 'count': 46},...   \n",
       "2542      1505488093  [{'id': 1, 'name': 'Beautiful', 'count': 41}, ...   \n",
       "2528      1504209631  [{'id': 9, 'name': 'Ingenious', 'count': 16}, ...   \n",
       "2501      1501770244  [{'id': 7, 'name': 'Funny', 'count': 10}, {'id...   \n",
       "2407      1489759215  [{'id': 1, 'name': 'Beautiful', 'count': 80}, ...   \n",
       "...              ...                                                ...   \n",
       "1787      1405350484  [{'id': 25, 'name': 'OK', 'count': 280}, {'id'...   \n",
       "201       1205284200  [{'id': 22, 'name': 'Fascinating', 'count': 14...   \n",
       "644       1269249180  [{'id': 8, 'name': 'Informative', 'count': 923...   \n",
       "0         1151367060  [{'id': 7, 'name': 'Funny', 'count': 19645}, {...   \n",
       "96        1176689220  [{'id': 3, 'name': 'Courageous', 'count': 3236...   \n",
       "\n",
       "                                          related_talks  \\\n",
       "2534  [{'id': 2511, 'hero': 'https://pe.tedcdn.com/i...   \n",
       "2542  [{'id': 2873, 'hero': 'https://pe.tedcdn.com/i...   \n",
       "2528  [{'id': 2673, 'hero': 'https://pe.tedcdn.com/i...   \n",
       "2501  [{'id': 2479, 'hero': 'https://pe.tedcdn.com/i...   \n",
       "2407  [{'id': 2611, 'hero': 'https://pe.tedcdn.com/i...   \n",
       "...                                                 ...   \n",
       "1787  [{'id': 1308, 'hero': 'https://pe.tedcdn.com/i...   \n",
       "201   [{'id': 184, 'hero': 'https://pe.tedcdn.com/im...   \n",
       "644   [{'id': 666, 'hero': 'https://pe.tedcdn.com/im...   \n",
       "0     [{'id': 865, 'hero': 'https://pe.tedcdn.com/im...   \n",
       "96    [{'id': 86, 'hero': 'https://pe.tedcdn.com/ima...   \n",
       "\n",
       "               speaker_occupation  \\\n",
       "2534                       Author   \n",
       "2542                       Artist   \n",
       "2528        Digital archaeologist   \n",
       "2501                   Art editor   \n",
       "2407            Musical explorers   \n",
       "...                           ...   \n",
       "1787                  Philosopher   \n",
       "201                Neuroanatomist   \n",
       "644   Neuroscientist, philosopher   \n",
       "0                 Author/educator   \n",
       "96         Evolutionary biologist   \n",
       "\n",
       "                                                   tags  \\\n",
       "2534  ['TEDx', 'art', 'climate change', 'environment...   \n",
       "2542  ['Africa', 'activism', 'art', 'community', 'hi...   \n",
       "2528  ['TEDx', 'ancient world', 'archaeology', 'cons...   \n",
       "2501  ['TEDNYC', 'art', 'creativity', 'culture', 'de...   \n",
       "2407      ['art', 'live music', 'music', 'performance']   \n",
       "...                                                 ...   \n",
       "1787  ['brain', 'consciousness', 'neuroscience', 'ph...   \n",
       "201   ['biology', 'brain', 'consciousness', 'global ...   \n",
       "644   ['culture', 'evolutionary psychology', 'global...   \n",
       "0     ['children', 'creativity', 'culture', 'dance',...   \n",
       "96    ['God', 'atheism', 'culture', 'religion', 'sci...   \n",
       "\n",
       "                                                  title  \\\n",
       "2534         What it feels like to see Earth from space   \n",
       "2542  Living sculptures that stand for history's truths   \n",
       "2528    How your pictures can help reclaim lost history   \n",
       "2501  The stories behind The New Yorker's iconic covers   \n",
       "2407                                        \"Turceasca\"   \n",
       "...                                                 ...   \n",
       "1787                  How do you explain consciousness?   \n",
       "201                                My stroke of insight   \n",
       "644                  Science can answer moral questions   \n",
       "0                           Do schools kill creativity?   \n",
       "96                                     Militant atheism   \n",
       "\n",
       "                                                    url     views  \n",
       "2534  https://www.ted.com/talks/benjamin_grant_what_...    646174  \n",
       "2542  https://www.ted.com/talks/sethembile_msezane_l...    542088  \n",
       "2528  https://www.ted.com/talks/chance_coughenour_ho...    539207  \n",
       "2501  https://www.ted.com/talks/francoise_mouly_the_...    839040  \n",
       "2407  https://www.ted.com/talks/silk_road_ensemble_t...    640734  \n",
       "...                                                 ...       ...  \n",
       "1787  https://www.ted.com/talks/david_chalmers_how_d...   2162764  \n",
       "201   https://www.ted.com/talks/jill_bolte_taylor_s_...  21190883  \n",
       "644   https://www.ted.com/talks/sam_harris_science_c...   3433437  \n",
       "0     https://www.ted.com/talks/ken_robinson_says_sc...  47227110  \n",
       "96    https://www.ted.com/talks/richard_dawkins_on_m...   4374792  \n",
       "\n",
       "[2550 rows x 17 columns]"
      ]
     },
     "execution_count": 8,
     "metadata": {},
     "output_type": "execute_result"
    }
   ],
   "source": [
    "ted.sort_values('comments')"
   ]
  },
  {
   "cell_type": "markdown",
   "metadata": {},
   "source": [
    "Since that will sort in ascending order so we will can directly see most commented by viewing tail of data"
   ]
  },
  {
   "cell_type": "code",
   "execution_count": 9,
   "metadata": {},
   "outputs": [
    {
     "data": {
      "text/html": [
       "<div>\n",
       "<style scoped>\n",
       "    .dataframe tbody tr th:only-of-type {\n",
       "        vertical-align: middle;\n",
       "    }\n",
       "\n",
       "    .dataframe tbody tr th {\n",
       "        vertical-align: top;\n",
       "    }\n",
       "\n",
       "    .dataframe thead th {\n",
       "        text-align: right;\n",
       "    }\n",
       "</style>\n",
       "<table border=\"1\" class=\"dataframe\">\n",
       "  <thead>\n",
       "    <tr style=\"text-align: right;\">\n",
       "      <th></th>\n",
       "      <th>comments</th>\n",
       "      <th>description</th>\n",
       "      <th>duration</th>\n",
       "      <th>event</th>\n",
       "      <th>film_date</th>\n",
       "      <th>languages</th>\n",
       "      <th>main_speaker</th>\n",
       "      <th>name</th>\n",
       "      <th>num_speaker</th>\n",
       "      <th>published_date</th>\n",
       "      <th>ratings</th>\n",
       "      <th>related_talks</th>\n",
       "      <th>speaker_occupation</th>\n",
       "      <th>tags</th>\n",
       "      <th>title</th>\n",
       "      <th>url</th>\n",
       "      <th>views</th>\n",
       "    </tr>\n",
       "  </thead>\n",
       "  <tbody>\n",
       "    <tr>\n",
       "      <td>1787</td>\n",
       "      <td>2673</td>\n",
       "      <td>Our consciousness is a fundamental aspect of o...</td>\n",
       "      <td>1117</td>\n",
       "      <td>TED2014</td>\n",
       "      <td>1395100800</td>\n",
       "      <td>33</td>\n",
       "      <td>David Chalmers</td>\n",
       "      <td>David Chalmers: How do you explain consciousness?</td>\n",
       "      <td>1</td>\n",
       "      <td>1405350484</td>\n",
       "      <td>[{'id': 25, 'name': 'OK', 'count': 280}, {'id'...</td>\n",
       "      <td>[{'id': 1308, 'hero': 'https://pe.tedcdn.com/i...</td>\n",
       "      <td>Philosopher</td>\n",
       "      <td>['brain', 'consciousness', 'neuroscience', 'ph...</td>\n",
       "      <td>How do you explain consciousness?</td>\n",
       "      <td>https://www.ted.com/talks/david_chalmers_how_d...</td>\n",
       "      <td>2162764</td>\n",
       "    </tr>\n",
       "    <tr>\n",
       "      <td>201</td>\n",
       "      <td>2877</td>\n",
       "      <td>Jill Bolte Taylor got a research opportunity f...</td>\n",
       "      <td>1099</td>\n",
       "      <td>TED2008</td>\n",
       "      <td>1204070400</td>\n",
       "      <td>49</td>\n",
       "      <td>Jill Bolte Taylor</td>\n",
       "      <td>Jill Bolte Taylor: My stroke of insight</td>\n",
       "      <td>1</td>\n",
       "      <td>1205284200</td>\n",
       "      <td>[{'id': 22, 'name': 'Fascinating', 'count': 14...</td>\n",
       "      <td>[{'id': 184, 'hero': 'https://pe.tedcdn.com/im...</td>\n",
       "      <td>Neuroanatomist</td>\n",
       "      <td>['biology', 'brain', 'consciousness', 'global ...</td>\n",
       "      <td>My stroke of insight</td>\n",
       "      <td>https://www.ted.com/talks/jill_bolte_taylor_s_...</td>\n",
       "      <td>21190883</td>\n",
       "    </tr>\n",
       "    <tr>\n",
       "      <td>644</td>\n",
       "      <td>3356</td>\n",
       "      <td>Questions of good and evil, right and wrong ar...</td>\n",
       "      <td>1386</td>\n",
       "      <td>TED2010</td>\n",
       "      <td>1265846400</td>\n",
       "      <td>39</td>\n",
       "      <td>Sam Harris</td>\n",
       "      <td>Sam Harris: Science can answer moral questions</td>\n",
       "      <td>1</td>\n",
       "      <td>1269249180</td>\n",
       "      <td>[{'id': 8, 'name': 'Informative', 'count': 923...</td>\n",
       "      <td>[{'id': 666, 'hero': 'https://pe.tedcdn.com/im...</td>\n",
       "      <td>Neuroscientist, philosopher</td>\n",
       "      <td>['culture', 'evolutionary psychology', 'global...</td>\n",
       "      <td>Science can answer moral questions</td>\n",
       "      <td>https://www.ted.com/talks/sam_harris_science_c...</td>\n",
       "      <td>3433437</td>\n",
       "    </tr>\n",
       "    <tr>\n",
       "      <td>0</td>\n",
       "      <td>4553</td>\n",
       "      <td>Sir Ken Robinson makes an entertaining and pro...</td>\n",
       "      <td>1164</td>\n",
       "      <td>TED2006</td>\n",
       "      <td>1140825600</td>\n",
       "      <td>60</td>\n",
       "      <td>Ken Robinson</td>\n",
       "      <td>Ken Robinson: Do schools kill creativity?</td>\n",
       "      <td>1</td>\n",
       "      <td>1151367060</td>\n",
       "      <td>[{'id': 7, 'name': 'Funny', 'count': 19645}, {...</td>\n",
       "      <td>[{'id': 865, 'hero': 'https://pe.tedcdn.com/im...</td>\n",
       "      <td>Author/educator</td>\n",
       "      <td>['children', 'creativity', 'culture', 'dance',...</td>\n",
       "      <td>Do schools kill creativity?</td>\n",
       "      <td>https://www.ted.com/talks/ken_robinson_says_sc...</td>\n",
       "      <td>47227110</td>\n",
       "    </tr>\n",
       "    <tr>\n",
       "      <td>96</td>\n",
       "      <td>6404</td>\n",
       "      <td>Richard Dawkins urges all atheists to openly s...</td>\n",
       "      <td>1750</td>\n",
       "      <td>TED2002</td>\n",
       "      <td>1012608000</td>\n",
       "      <td>42</td>\n",
       "      <td>Richard Dawkins</td>\n",
       "      <td>Richard Dawkins: Militant atheism</td>\n",
       "      <td>1</td>\n",
       "      <td>1176689220</td>\n",
       "      <td>[{'id': 3, 'name': 'Courageous', 'count': 3236...</td>\n",
       "      <td>[{'id': 86, 'hero': 'https://pe.tedcdn.com/ima...</td>\n",
       "      <td>Evolutionary biologist</td>\n",
       "      <td>['God', 'atheism', 'culture', 'religion', 'sci...</td>\n",
       "      <td>Militant atheism</td>\n",
       "      <td>https://www.ted.com/talks/richard_dawkins_on_m...</td>\n",
       "      <td>4374792</td>\n",
       "    </tr>\n",
       "  </tbody>\n",
       "</table>\n",
       "</div>"
      ],
      "text/plain": [
       "      comments                                        description  duration  \\\n",
       "1787      2673  Our consciousness is a fundamental aspect of o...      1117   \n",
       "201       2877  Jill Bolte Taylor got a research opportunity f...      1099   \n",
       "644       3356  Questions of good and evil, right and wrong ar...      1386   \n",
       "0         4553  Sir Ken Robinson makes an entertaining and pro...      1164   \n",
       "96        6404  Richard Dawkins urges all atheists to openly s...      1750   \n",
       "\n",
       "        event   film_date  languages       main_speaker  \\\n",
       "1787  TED2014  1395100800         33     David Chalmers   \n",
       "201   TED2008  1204070400         49  Jill Bolte Taylor   \n",
       "644   TED2010  1265846400         39         Sam Harris   \n",
       "0     TED2006  1140825600         60       Ken Robinson   \n",
       "96    TED2002  1012608000         42    Richard Dawkins   \n",
       "\n",
       "                                                   name  num_speaker  \\\n",
       "1787  David Chalmers: How do you explain consciousness?            1   \n",
       "201             Jill Bolte Taylor: My stroke of insight            1   \n",
       "644      Sam Harris: Science can answer moral questions            1   \n",
       "0             Ken Robinson: Do schools kill creativity?            1   \n",
       "96                    Richard Dawkins: Militant atheism            1   \n",
       "\n",
       "      published_date                                            ratings  \\\n",
       "1787      1405350484  [{'id': 25, 'name': 'OK', 'count': 280}, {'id'...   \n",
       "201       1205284200  [{'id': 22, 'name': 'Fascinating', 'count': 14...   \n",
       "644       1269249180  [{'id': 8, 'name': 'Informative', 'count': 923...   \n",
       "0         1151367060  [{'id': 7, 'name': 'Funny', 'count': 19645}, {...   \n",
       "96        1176689220  [{'id': 3, 'name': 'Courageous', 'count': 3236...   \n",
       "\n",
       "                                          related_talks  \\\n",
       "1787  [{'id': 1308, 'hero': 'https://pe.tedcdn.com/i...   \n",
       "201   [{'id': 184, 'hero': 'https://pe.tedcdn.com/im...   \n",
       "644   [{'id': 666, 'hero': 'https://pe.tedcdn.com/im...   \n",
       "0     [{'id': 865, 'hero': 'https://pe.tedcdn.com/im...   \n",
       "96    [{'id': 86, 'hero': 'https://pe.tedcdn.com/ima...   \n",
       "\n",
       "               speaker_occupation  \\\n",
       "1787                  Philosopher   \n",
       "201                Neuroanatomist   \n",
       "644   Neuroscientist, philosopher   \n",
       "0                 Author/educator   \n",
       "96         Evolutionary biologist   \n",
       "\n",
       "                                                   tags  \\\n",
       "1787  ['brain', 'consciousness', 'neuroscience', 'ph...   \n",
       "201   ['biology', 'brain', 'consciousness', 'global ...   \n",
       "644   ['culture', 'evolutionary psychology', 'global...   \n",
       "0     ['children', 'creativity', 'culture', 'dance',...   \n",
       "96    ['God', 'atheism', 'culture', 'religion', 'sci...   \n",
       "\n",
       "                                   title  \\\n",
       "1787   How do you explain consciousness?   \n",
       "201                 My stroke of insight   \n",
       "644   Science can answer moral questions   \n",
       "0            Do schools kill creativity?   \n",
       "96                      Militant atheism   \n",
       "\n",
       "                                                    url     views  \n",
       "1787  https://www.ted.com/talks/david_chalmers_how_d...   2162764  \n",
       "201   https://www.ted.com/talks/jill_bolte_taylor_s_...  21190883  \n",
       "644   https://www.ted.com/talks/sam_harris_science_c...   3433437  \n",
       "0     https://www.ted.com/talks/ken_robinson_says_sc...  47227110  \n",
       "96    https://www.ted.com/talks/richard_dawkins_on_m...   4374792  "
      ]
     },
     "execution_count": 9,
     "metadata": {},
     "output_type": "execute_result"
    }
   ],
   "source": [
    "ted.sort_values('comments').tail()"
   ]
  },
  {
   "cell_type": "markdown",
   "metadata": {},
   "source": [
    "The comments depends on uploaded time , sub comments etc\n"
   ]
  },
  {
   "cell_type": "code",
   "execution_count": 10,
   "metadata": {},
   "outputs": [],
   "source": [
    "#So normalize by views"
   ]
  },
  {
   "cell_type": "code",
   "execution_count": 11,
   "metadata": {},
   "outputs": [],
   "source": [
    "ted['comments_per_view'] = ted.comments / ted.views"
   ]
  },
  {
   "cell_type": "code",
   "execution_count": 12,
   "metadata": {},
   "outputs": [
    {
     "data": {
      "text/html": [
       "<div>\n",
       "<style scoped>\n",
       "    .dataframe tbody tr th:only-of-type {\n",
       "        vertical-align: middle;\n",
       "    }\n",
       "\n",
       "    .dataframe tbody tr th {\n",
       "        vertical-align: top;\n",
       "    }\n",
       "\n",
       "    .dataframe thead th {\n",
       "        text-align: right;\n",
       "    }\n",
       "</style>\n",
       "<table border=\"1\" class=\"dataframe\">\n",
       "  <thead>\n",
       "    <tr style=\"text-align: right;\">\n",
       "      <th></th>\n",
       "      <th>comments</th>\n",
       "      <th>description</th>\n",
       "      <th>duration</th>\n",
       "      <th>event</th>\n",
       "      <th>film_date</th>\n",
       "      <th>languages</th>\n",
       "      <th>main_speaker</th>\n",
       "      <th>name</th>\n",
       "      <th>num_speaker</th>\n",
       "      <th>published_date</th>\n",
       "      <th>ratings</th>\n",
       "      <th>related_talks</th>\n",
       "      <th>speaker_occupation</th>\n",
       "      <th>tags</th>\n",
       "      <th>title</th>\n",
       "      <th>url</th>\n",
       "      <th>views</th>\n",
       "      <th>comments_per_view</th>\n",
       "    </tr>\n",
       "  </thead>\n",
       "  <tbody>\n",
       "    <tr>\n",
       "      <td>954</td>\n",
       "      <td>2492</td>\n",
       "      <td>Janet Echelman found her true voice as an arti...</td>\n",
       "      <td>566</td>\n",
       "      <td>TED2011</td>\n",
       "      <td>1299110400</td>\n",
       "      <td>35</td>\n",
       "      <td>Janet Echelman</td>\n",
       "      <td>Janet Echelman: Taking imagination seriously</td>\n",
       "      <td>1</td>\n",
       "      <td>1307489760</td>\n",
       "      <td>[{'id': 23, 'name': 'Jaw-dropping', 'count': 3...</td>\n",
       "      <td>[{'id': 453, 'hero': 'https://pe.tedcdn.com/im...</td>\n",
       "      <td>Artist</td>\n",
       "      <td>['art', 'cities', 'culture', 'data', 'design',...</td>\n",
       "      <td>Taking imagination seriously</td>\n",
       "      <td>https://www.ted.com/talks/janet_echelman\\n</td>\n",
       "      <td>1832930</td>\n",
       "      <td>0.001360</td>\n",
       "    </tr>\n",
       "    <tr>\n",
       "      <td>694</td>\n",
       "      <td>1502</td>\n",
       "      <td>Filmmaker Sharmeen Obaid-Chinoy takes on a ter...</td>\n",
       "      <td>489</td>\n",
       "      <td>TED2010</td>\n",
       "      <td>1265760000</td>\n",
       "      <td>32</td>\n",
       "      <td>Sharmeen Obaid-Chinoy</td>\n",
       "      <td>Sharmeen Obaid-Chinoy: Inside a school for sui...</td>\n",
       "      <td>1</td>\n",
       "      <td>1274865960</td>\n",
       "      <td>[{'id': 23, 'name': 'Jaw-dropping', 'count': 3...</td>\n",
       "      <td>[{'id': 171, 'hero': 'https://pe.tedcdn.com/im...</td>\n",
       "      <td>Filmmaker</td>\n",
       "      <td>['TED Fellows', 'children', 'culture', 'film',...</td>\n",
       "      <td>Inside a school for suicide bombers</td>\n",
       "      <td>https://www.ted.com/talks/sharmeen_obaid_chino...</td>\n",
       "      <td>1057238</td>\n",
       "      <td>0.001421</td>\n",
       "    </tr>\n",
       "    <tr>\n",
       "      <td>96</td>\n",
       "      <td>6404</td>\n",
       "      <td>Richard Dawkins urges all atheists to openly s...</td>\n",
       "      <td>1750</td>\n",
       "      <td>TED2002</td>\n",
       "      <td>1012608000</td>\n",
       "      <td>42</td>\n",
       "      <td>Richard Dawkins</td>\n",
       "      <td>Richard Dawkins: Militant atheism</td>\n",
       "      <td>1</td>\n",
       "      <td>1176689220</td>\n",
       "      <td>[{'id': 3, 'name': 'Courageous', 'count': 3236...</td>\n",
       "      <td>[{'id': 86, 'hero': 'https://pe.tedcdn.com/ima...</td>\n",
       "      <td>Evolutionary biologist</td>\n",
       "      <td>['God', 'atheism', 'culture', 'religion', 'sci...</td>\n",
       "      <td>Militant atheism</td>\n",
       "      <td>https://www.ted.com/talks/richard_dawkins_on_m...</td>\n",
       "      <td>4374792</td>\n",
       "      <td>0.001464</td>\n",
       "    </tr>\n",
       "    <tr>\n",
       "      <td>803</td>\n",
       "      <td>834</td>\n",
       "      <td>David Bismark demos a new system for voting th...</td>\n",
       "      <td>422</td>\n",
       "      <td>TEDGlobal 2010</td>\n",
       "      <td>1279065600</td>\n",
       "      <td>36</td>\n",
       "      <td>David Bismark</td>\n",
       "      <td>David Bismark: E-voting without fraud</td>\n",
       "      <td>1</td>\n",
       "      <td>1288685640</td>\n",
       "      <td>[{'id': 25, 'name': 'OK', 'count': 111}, {'id'...</td>\n",
       "      <td>[{'id': 803, 'hero': 'https://pe.tedcdn.com/im...</td>\n",
       "      <td>Voting system designer</td>\n",
       "      <td>['culture', 'democracy', 'design', 'global iss...</td>\n",
       "      <td>E-voting without fraud</td>\n",
       "      <td>https://www.ted.com/talks/david_bismark_e_voti...</td>\n",
       "      <td>543551</td>\n",
       "      <td>0.001534</td>\n",
       "    </tr>\n",
       "    <tr>\n",
       "      <td>744</td>\n",
       "      <td>649</td>\n",
       "      <td>Hours before New York lawmakers rejected a key...</td>\n",
       "      <td>453</td>\n",
       "      <td>New York State Senate</td>\n",
       "      <td>1259712000</td>\n",
       "      <td>0</td>\n",
       "      <td>Diane J. Savino</td>\n",
       "      <td>Diane J. Savino: The case for same-sex marriage</td>\n",
       "      <td>1</td>\n",
       "      <td>1282062180</td>\n",
       "      <td>[{'id': 25, 'name': 'OK', 'count': 100}, {'id'...</td>\n",
       "      <td>[{'id': 217, 'hero': 'https://pe.tedcdn.com/im...</td>\n",
       "      <td>Senator</td>\n",
       "      <td>['God', 'LGBT', 'culture', 'government', 'law'...</td>\n",
       "      <td>The case for same-sex marriage</td>\n",
       "      <td>https://www.ted.com/talks/diane_j_savino_the_c...</td>\n",
       "      <td>292395</td>\n",
       "      <td>0.002220</td>\n",
       "    </tr>\n",
       "  </tbody>\n",
       "</table>\n",
       "</div>"
      ],
      "text/plain": [
       "     comments                                        description  duration  \\\n",
       "954      2492  Janet Echelman found her true voice as an arti...       566   \n",
       "694      1502  Filmmaker Sharmeen Obaid-Chinoy takes on a ter...       489   \n",
       "96       6404  Richard Dawkins urges all atheists to openly s...      1750   \n",
       "803       834  David Bismark demos a new system for voting th...       422   \n",
       "744       649  Hours before New York lawmakers rejected a key...       453   \n",
       "\n",
       "                     event   film_date  languages           main_speaker  \\\n",
       "954                TED2011  1299110400         35         Janet Echelman   \n",
       "694                TED2010  1265760000         32  Sharmeen Obaid-Chinoy   \n",
       "96                 TED2002  1012608000         42        Richard Dawkins   \n",
       "803         TEDGlobal 2010  1279065600         36          David Bismark   \n",
       "744  New York State Senate  1259712000          0        Diane J. Savino   \n",
       "\n",
       "                                                  name  num_speaker  \\\n",
       "954       Janet Echelman: Taking imagination seriously            1   \n",
       "694  Sharmeen Obaid-Chinoy: Inside a school for sui...            1   \n",
       "96                   Richard Dawkins: Militant atheism            1   \n",
       "803              David Bismark: E-voting without fraud            1   \n",
       "744    Diane J. Savino: The case for same-sex marriage            1   \n",
       "\n",
       "     published_date                                            ratings  \\\n",
       "954      1307489760  [{'id': 23, 'name': 'Jaw-dropping', 'count': 3...   \n",
       "694      1274865960  [{'id': 23, 'name': 'Jaw-dropping', 'count': 3...   \n",
       "96       1176689220  [{'id': 3, 'name': 'Courageous', 'count': 3236...   \n",
       "803      1288685640  [{'id': 25, 'name': 'OK', 'count': 111}, {'id'...   \n",
       "744      1282062180  [{'id': 25, 'name': 'OK', 'count': 100}, {'id'...   \n",
       "\n",
       "                                         related_talks  \\\n",
       "954  [{'id': 453, 'hero': 'https://pe.tedcdn.com/im...   \n",
       "694  [{'id': 171, 'hero': 'https://pe.tedcdn.com/im...   \n",
       "96   [{'id': 86, 'hero': 'https://pe.tedcdn.com/ima...   \n",
       "803  [{'id': 803, 'hero': 'https://pe.tedcdn.com/im...   \n",
       "744  [{'id': 217, 'hero': 'https://pe.tedcdn.com/im...   \n",
       "\n",
       "         speaker_occupation  \\\n",
       "954                  Artist   \n",
       "694               Filmmaker   \n",
       "96   Evolutionary biologist   \n",
       "803  Voting system designer   \n",
       "744                 Senator   \n",
       "\n",
       "                                                  tags  \\\n",
       "954  ['art', 'cities', 'culture', 'data', 'design',...   \n",
       "694  ['TED Fellows', 'children', 'culture', 'film',...   \n",
       "96   ['God', 'atheism', 'culture', 'religion', 'sci...   \n",
       "803  ['culture', 'democracy', 'design', 'global iss...   \n",
       "744  ['God', 'LGBT', 'culture', 'government', 'law'...   \n",
       "\n",
       "                                   title  \\\n",
       "954         Taking imagination seriously   \n",
       "694  Inside a school for suicide bombers   \n",
       "96                      Militant atheism   \n",
       "803               E-voting without fraud   \n",
       "744       The case for same-sex marriage   \n",
       "\n",
       "                                                   url    views  \\\n",
       "954         https://www.ted.com/talks/janet_echelman\\n  1832930   \n",
       "694  https://www.ted.com/talks/sharmeen_obaid_chino...  1057238   \n",
       "96   https://www.ted.com/talks/richard_dawkins_on_m...  4374792   \n",
       "803  https://www.ted.com/talks/david_bismark_e_voti...   543551   \n",
       "744  https://www.ted.com/talks/diane_j_savino_the_c...   292395   \n",
       "\n",
       "     comments_per_view  \n",
       "954           0.001360  \n",
       "694           0.001421  \n",
       "96            0.001464  \n",
       "803           0.001534  \n",
       "744           0.002220  "
      ]
     },
     "execution_count": 12,
     "metadata": {},
     "output_type": "execute_result"
    }
   ],
   "source": [
    "ted.sort_values('comments_per_view').tail()"
   ]
  },
  {
   "cell_type": "code",
   "execution_count": 13,
   "metadata": {},
   "outputs": [],
   "source": [
    "ted['views_per_comments'] = ted.views / ted.comments"
   ]
  },
  {
   "cell_type": "code",
   "execution_count": 72,
   "metadata": {},
   "outputs": [
    {
     "data": {
      "text/html": [
       "<div>\n",
       "<style scoped>\n",
       "    .dataframe tbody tr th:only-of-type {\n",
       "        vertical-align: middle;\n",
       "    }\n",
       "\n",
       "    .dataframe tbody tr th {\n",
       "        vertical-align: top;\n",
       "    }\n",
       "\n",
       "    .dataframe thead th {\n",
       "        text-align: right;\n",
       "    }\n",
       "</style>\n",
       "<table border=\"1\" class=\"dataframe\">\n",
       "  <thead>\n",
       "    <tr style=\"text-align: right;\">\n",
       "      <th></th>\n",
       "      <th>comments</th>\n",
       "      <th>description</th>\n",
       "      <th>duration</th>\n",
       "      <th>event</th>\n",
       "      <th>film_date</th>\n",
       "      <th>languages</th>\n",
       "      <th>main_speaker</th>\n",
       "      <th>name</th>\n",
       "      <th>num_speaker</th>\n",
       "      <th>published_date</th>\n",
       "      <th>...</th>\n",
       "      <th>related_talks</th>\n",
       "      <th>speaker_occupation</th>\n",
       "      <th>tags</th>\n",
       "      <th>title</th>\n",
       "      <th>url</th>\n",
       "      <th>views</th>\n",
       "      <th>comments_per_view</th>\n",
       "      <th>views_per_comments</th>\n",
       "      <th>film_datetime</th>\n",
       "      <th>ratings_list</th>\n",
       "    </tr>\n",
       "  </thead>\n",
       "  <tbody>\n",
       "    <tr>\n",
       "      <td>744</td>\n",
       "      <td>649</td>\n",
       "      <td>Hours before New York lawmakers rejected a key...</td>\n",
       "      <td>453</td>\n",
       "      <td>New York State Senate</td>\n",
       "      <td>1259712000</td>\n",
       "      <td>0</td>\n",
       "      <td>Diane J. Savino</td>\n",
       "      <td>Diane J. Savino: The case for same-sex marriage</td>\n",
       "      <td>1</td>\n",
       "      <td>1282062180</td>\n",
       "      <td>...</td>\n",
       "      <td>[{'id': 217, 'hero': 'https://pe.tedcdn.com/im...</td>\n",
       "      <td>Senator</td>\n",
       "      <td>['God', 'LGBT', 'culture', 'government', 'law'...</td>\n",
       "      <td>The case for same-sex marriage</td>\n",
       "      <td>https://www.ted.com/talks/diane_j_savino_the_c...</td>\n",
       "      <td>292395</td>\n",
       "      <td>0.002220</td>\n",
       "      <td>450.531587</td>\n",
       "      <td>2009-12-02</td>\n",
       "      <td>[{'id': 25, 'name': 'OK', 'count': 100}, {'id'...</td>\n",
       "    </tr>\n",
       "    <tr>\n",
       "      <td>803</td>\n",
       "      <td>834</td>\n",
       "      <td>David Bismark demos a new system for voting th...</td>\n",
       "      <td>422</td>\n",
       "      <td>TEDGlobal 2010</td>\n",
       "      <td>1279065600</td>\n",
       "      <td>36</td>\n",
       "      <td>David Bismark</td>\n",
       "      <td>David Bismark: E-voting without fraud</td>\n",
       "      <td>1</td>\n",
       "      <td>1288685640</td>\n",
       "      <td>...</td>\n",
       "      <td>[{'id': 803, 'hero': 'https://pe.tedcdn.com/im...</td>\n",
       "      <td>Voting system designer</td>\n",
       "      <td>['culture', 'democracy', 'design', 'global iss...</td>\n",
       "      <td>E-voting without fraud</td>\n",
       "      <td>https://www.ted.com/talks/david_bismark_e_voti...</td>\n",
       "      <td>543551</td>\n",
       "      <td>0.001534</td>\n",
       "      <td>651.739808</td>\n",
       "      <td>2010-07-14</td>\n",
       "      <td>[{'id': 25, 'name': 'OK', 'count': 111}, {'id'...</td>\n",
       "    </tr>\n",
       "    <tr>\n",
       "      <td>96</td>\n",
       "      <td>6404</td>\n",
       "      <td>Richard Dawkins urges all atheists to openly s...</td>\n",
       "      <td>1750</td>\n",
       "      <td>TED2002</td>\n",
       "      <td>1012608000</td>\n",
       "      <td>42</td>\n",
       "      <td>Richard Dawkins</td>\n",
       "      <td>Richard Dawkins: Militant atheism</td>\n",
       "      <td>1</td>\n",
       "      <td>1176689220</td>\n",
       "      <td>...</td>\n",
       "      <td>[{'id': 86, 'hero': 'https://pe.tedcdn.com/ima...</td>\n",
       "      <td>Evolutionary biologist</td>\n",
       "      <td>['God', 'atheism', 'culture', 'religion', 'sci...</td>\n",
       "      <td>Militant atheism</td>\n",
       "      <td>https://www.ted.com/talks/richard_dawkins_on_m...</td>\n",
       "      <td>4374792</td>\n",
       "      <td>0.001464</td>\n",
       "      <td>683.134291</td>\n",
       "      <td>2002-02-02</td>\n",
       "      <td>[{'id': 3, 'name': 'Courageous', 'count': 3236...</td>\n",
       "    </tr>\n",
       "    <tr>\n",
       "      <td>694</td>\n",
       "      <td>1502</td>\n",
       "      <td>Filmmaker Sharmeen Obaid-Chinoy takes on a ter...</td>\n",
       "      <td>489</td>\n",
       "      <td>TED2010</td>\n",
       "      <td>1265760000</td>\n",
       "      <td>32</td>\n",
       "      <td>Sharmeen Obaid-Chinoy</td>\n",
       "      <td>Sharmeen Obaid-Chinoy: Inside a school for sui...</td>\n",
       "      <td>1</td>\n",
       "      <td>1274865960</td>\n",
       "      <td>...</td>\n",
       "      <td>[{'id': 171, 'hero': 'https://pe.tedcdn.com/im...</td>\n",
       "      <td>Filmmaker</td>\n",
       "      <td>['TED Fellows', 'children', 'culture', 'film',...</td>\n",
       "      <td>Inside a school for suicide bombers</td>\n",
       "      <td>https://www.ted.com/talks/sharmeen_obaid_chino...</td>\n",
       "      <td>1057238</td>\n",
       "      <td>0.001421</td>\n",
       "      <td>703.886818</td>\n",
       "      <td>2010-02-10</td>\n",
       "      <td>[{'id': 23, 'name': 'Jaw-dropping', 'count': 3...</td>\n",
       "    </tr>\n",
       "    <tr>\n",
       "      <td>954</td>\n",
       "      <td>2492</td>\n",
       "      <td>Janet Echelman found her true voice as an arti...</td>\n",
       "      <td>566</td>\n",
       "      <td>TED2011</td>\n",
       "      <td>1299110400</td>\n",
       "      <td>35</td>\n",
       "      <td>Janet Echelman</td>\n",
       "      <td>Janet Echelman: Taking imagination seriously</td>\n",
       "      <td>1</td>\n",
       "      <td>1307489760</td>\n",
       "      <td>...</td>\n",
       "      <td>[{'id': 453, 'hero': 'https://pe.tedcdn.com/im...</td>\n",
       "      <td>Artist</td>\n",
       "      <td>['art', 'cities', 'culture', 'data', 'design',...</td>\n",
       "      <td>Taking imagination seriously</td>\n",
       "      <td>https://www.ted.com/talks/janet_echelman\\n</td>\n",
       "      <td>1832930</td>\n",
       "      <td>0.001360</td>\n",
       "      <td>735.525682</td>\n",
       "      <td>2011-03-03</td>\n",
       "      <td>[{'id': 23, 'name': 'Jaw-dropping', 'count': 3...</td>\n",
       "    </tr>\n",
       "  </tbody>\n",
       "</table>\n",
       "<p>5 rows × 21 columns</p>\n",
       "</div>"
      ],
      "text/plain": [
       "     comments                                        description  duration  \\\n",
       "744       649  Hours before New York lawmakers rejected a key...       453   \n",
       "803       834  David Bismark demos a new system for voting th...       422   \n",
       "96       6404  Richard Dawkins urges all atheists to openly s...      1750   \n",
       "694      1502  Filmmaker Sharmeen Obaid-Chinoy takes on a ter...       489   \n",
       "954      2492  Janet Echelman found her true voice as an arti...       566   \n",
       "\n",
       "                     event   film_date  languages           main_speaker  \\\n",
       "744  New York State Senate  1259712000          0        Diane J. Savino   \n",
       "803         TEDGlobal 2010  1279065600         36          David Bismark   \n",
       "96                 TED2002  1012608000         42        Richard Dawkins   \n",
       "694                TED2010  1265760000         32  Sharmeen Obaid-Chinoy   \n",
       "954                TED2011  1299110400         35         Janet Echelman   \n",
       "\n",
       "                                                  name  num_speaker  \\\n",
       "744    Diane J. Savino: The case for same-sex marriage            1   \n",
       "803              David Bismark: E-voting without fraud            1   \n",
       "96                   Richard Dawkins: Militant atheism            1   \n",
       "694  Sharmeen Obaid-Chinoy: Inside a school for sui...            1   \n",
       "954       Janet Echelman: Taking imagination seriously            1   \n",
       "\n",
       "     published_date  ...                                      related_talks  \\\n",
       "744      1282062180  ...  [{'id': 217, 'hero': 'https://pe.tedcdn.com/im...   \n",
       "803      1288685640  ...  [{'id': 803, 'hero': 'https://pe.tedcdn.com/im...   \n",
       "96       1176689220  ...  [{'id': 86, 'hero': 'https://pe.tedcdn.com/ima...   \n",
       "694      1274865960  ...  [{'id': 171, 'hero': 'https://pe.tedcdn.com/im...   \n",
       "954      1307489760  ...  [{'id': 453, 'hero': 'https://pe.tedcdn.com/im...   \n",
       "\n",
       "         speaker_occupation  \\\n",
       "744                 Senator   \n",
       "803  Voting system designer   \n",
       "96   Evolutionary biologist   \n",
       "694               Filmmaker   \n",
       "954                  Artist   \n",
       "\n",
       "                                                  tags  \\\n",
       "744  ['God', 'LGBT', 'culture', 'government', 'law'...   \n",
       "803  ['culture', 'democracy', 'design', 'global iss...   \n",
       "96   ['God', 'atheism', 'culture', 'religion', 'sci...   \n",
       "694  ['TED Fellows', 'children', 'culture', 'film',...   \n",
       "954  ['art', 'cities', 'culture', 'data', 'design',...   \n",
       "\n",
       "                                   title  \\\n",
       "744       The case for same-sex marriage   \n",
       "803               E-voting without fraud   \n",
       "96                      Militant atheism   \n",
       "694  Inside a school for suicide bombers   \n",
       "954         Taking imagination seriously   \n",
       "\n",
       "                                                   url    views  \\\n",
       "744  https://www.ted.com/talks/diane_j_savino_the_c...   292395   \n",
       "803  https://www.ted.com/talks/david_bismark_e_voti...   543551   \n",
       "96   https://www.ted.com/talks/richard_dawkins_on_m...  4374792   \n",
       "694  https://www.ted.com/talks/sharmeen_obaid_chino...  1057238   \n",
       "954         https://www.ted.com/talks/janet_echelman\\n  1832930   \n",
       "\n",
       "     comments_per_view  views_per_comments  film_datetime  \\\n",
       "744           0.002220          450.531587     2009-12-02   \n",
       "803           0.001534          651.739808     2010-07-14   \n",
       "96            0.001464          683.134291     2002-02-02   \n",
       "694           0.001421          703.886818     2010-02-10   \n",
       "954           0.001360          735.525682     2011-03-03   \n",
       "\n",
       "                                          ratings_list  \n",
       "744  [{'id': 25, 'name': 'OK', 'count': 100}, {'id'...  \n",
       "803  [{'id': 25, 'name': 'OK', 'count': 111}, {'id'...  \n",
       "96   [{'id': 3, 'name': 'Courageous', 'count': 3236...  \n",
       "694  [{'id': 23, 'name': 'Jaw-dropping', 'count': 3...  \n",
       "954  [{'id': 23, 'name': 'Jaw-dropping', 'count': 3...  \n",
       "\n",
       "[5 rows x 21 columns]"
      ]
     },
     "execution_count": 72,
     "metadata": {},
     "output_type": "execute_result"
    }
   ],
   "source": [
    "ted.sort_values('views_per_comments').head()"
   ]
  },
  {
   "cell_type": "markdown",
   "metadata": {},
   "source": [
    "## Visualize The Distribution of Comments"
   ]
  },
  {
   "cell_type": "code",
   "execution_count": 15,
   "metadata": {},
   "outputs": [
    {
     "data": {
      "text/plain": [
       "<matplotlib.axes._subplots.AxesSubplot at 0x7f3de801bfd0>"
      ]
     },
     "execution_count": 15,
     "metadata": {},
     "output_type": "execute_result"
    },
    {
     "data": {
      "image/png": "[encoded data removed]",
      "text/plain": [
       "<Figure size 432x288 with 1 Axes>"
      ]
     },
     "metadata": {
      "needs_background": "light"
     },
     "output_type": "display_data"
    }
   ],
   "source": [
    "ted.comments.plot() #this is  line plot "
   ]
  },
  {
   "cell_type": "markdown",
   "metadata": {},
   "source": [
    "X = Index\n",
    "Y = Value of Comments Field"
   ]
  },
  {
   "cell_type": "code",
   "execution_count": 16,
   "metadata": {},
   "outputs": [
    {
     "data": {
      "text/plain": [
       "<matplotlib.axes._subplots.AxesSubplot at 0x7f3de7c955c0>"
      ]
     },
     "execution_count": 16,
     "metadata": {},
     "output_type": "execute_result"
    },
    {
     "data": {
      "image/png": "[encoded data removed]",
      "text/plain": [
       "<Figure size 432x288 with 1 Axes>"
      ]
     },
     "metadata": {
      "needs_background": "light"
     },
     "output_type": "display_data"
    }
   ],
   "source": [
    "\n",
    "ted.comments.plot(kind = 'hist')"
   ]
  },
  {
   "cell_type": "code",
   "execution_count": 17,
   "metadata": {},
   "outputs": [
    {
     "data": {
      "text/plain": [
       "(9, 19)"
      ]
     },
     "execution_count": 17,
     "metadata": {},
     "output_type": "execute_result"
    }
   ],
   "source": [
    "ted[ted.comments >=2000].shape #so there are only 9 data which has commennts over 2000"
   ]
  },
  {
   "cell_type": "code",
   "execution_count": 18,
   "metadata": {},
   "outputs": [
    {
     "data": {
      "text/plain": [
       "(32, 19)"
      ]
     },
     "execution_count": 18,
     "metadata": {},
     "output_type": "execute_result"
    }
   ],
   "source": [
    "ted[ted.comments >=1000].shape"
   ]
  },
  {
   "cell_type": "markdown",
   "metadata": {},
   "source": [
    "###### Filtering"
   ]
  },
  {
   "cell_type": "code",
   "execution_count": 19,
   "metadata": {},
   "outputs": [
    {
     "data": {
      "text/plain": [
       "<matplotlib.axes._subplots.AxesSubplot at 0x7f3de77d56d8>"
      ]
     },
     "execution_count": 19,
     "metadata": {},
     "output_type": "execute_result"
    },
    {
     "data": {
      "image/png": "[encoded data removed]",
      "text/plain": [
       "<Figure size 432x288 with 1 Axes>"
      ]
     },
     "metadata": {
      "needs_background": "light"
     },
     "output_type": "display_data"
    }
   ],
   "source": [
    "#Method 1\n",
    "ted[ted.comments < 1000].comments.plot(kind = 'hist') #Filtering Data"
   ]
  },
  {
   "cell_type": "markdown",
   "metadata": {},
   "source": [
    "Here we are only loosing 32 talks "
   ]
  },
  {
   "cell_type": "markdown",
   "metadata": {},
   "source": [
    "###### Method2"
   ]
  },
  {
   "cell_type": "code",
   "execution_count": 20,
   "metadata": {},
   "outputs": [
    {
     "data": {
      "text/plain": [
       "<matplotlib.axes._subplots.AxesSubplot at 0x7f3de77a9128>"
      ]
     },
     "execution_count": 20,
     "metadata": {},
     "output_type": "execute_result"
    },
    {
     "data": {
      "image/png": "[encoded data removed]",
      "text/plain": [
       "<Figure size 432x288 with 1 Axes>"
      ]
     },
     "metadata": {
      "needs_background": "light"
     },
     "output_type": "display_data"
    }
   ],
   "source": [
    "ted.loc[ted.comments < 1000, 'comments'].plot(kind = 'hist')"
   ]
  },
  {
   "cell_type": "code",
   "execution_count": 21,
   "metadata": {},
   "outputs": [
    {
     "data": {
      "text/plain": [
       "<matplotlib.axes._subplots.AxesSubplot at 0x7f3de76d6320>"
      ]
     },
     "execution_count": 21,
     "metadata": {},
     "output_type": "execute_result"
    },
    {
     "data": {
      "image/png": "[encoded data removed]",
      "text/plain": [
       "<Figure size 432x288 with 1 Axes>"
      ]
     },
     "metadata": {
      "needs_background": "light"
     },
     "output_type": "display_data"
    }
   ],
   "source": [
    "ted.loc[ted.comments < 1000, 'comments'].plot(kind = 'box')"
   ]
  },
  {
   "cell_type": "code",
   "execution_count": 22,
   "metadata": {},
   "outputs": [
    {
     "data": {
      "text/plain": [
       "<matplotlib.axes._subplots.AxesSubplot at 0x7f3de76bf400>"
      ]
     },
     "execution_count": 22,
     "metadata": {},
     "output_type": "execute_result"
    },
    {
     "data": {
      "image/png": "[encoded data removed]",
      "text/plain": [
       "<Figure size 432x288 with 1 Axes>"
      ]
     },
     "metadata": {
      "needs_background": "light"
     },
     "output_type": "display_data"
    }
   ],
   "source": [
    "ted.loc[ted.comments < 1000, 'comments'].plot(kind = 'hist', bins = 20)"
   ]
  },
  {
   "cell_type": "markdown",
   "metadata": {},
   "source": [
    "#### Visualize the distribution of comments\n",
    "1. Choose your plot type based on the question you are answering and the data type you are working with\n",
    "2. Use pandas one-liners to iterate through plots quickly\n",
    "3. Try modifying the plot defaults\n",
    "4. Creating plots involves decision-making"
   ]
  },
  {
   "cell_type": "markdown",
   "metadata": {},
   "source": [
    "# 4 plot the no. of talk that took place each year"
   ]
  },
  {
   "cell_type": "code",
   "execution_count": 23,
   "metadata": {},
   "outputs": [
    {
     "data": {
      "text/plain": [
       "0            TED2006\n",
       "1            TED2006\n",
       "2            TED2006\n",
       "3            TED2006\n",
       "4            TED2006\n",
       "            ...     \n",
       "2545         TED2017\n",
       "2546         TED2017\n",
       "2547         TED2017\n",
       "2548    TEDxMileHigh\n",
       "2549         TED2017\n",
       "Name: event, Length: 2550, dtype: object"
      ]
     },
     "execution_count": 23,
     "metadata": {},
     "output_type": "execute_result"
    }
   ],
   "source": [
    "ted.event"
   ]
  },
  {
   "cell_type": "code",
   "execution_count": 24,
   "metadata": {},
   "outputs": [
    {
     "data": {
      "text/plain": [
       "283            TED2008\n",
       "1375      TEDxWinnipeg\n",
       "978     TEDGlobal 2011\n",
       "2223           TEDxPSU\n",
       "1219           TED2012\n",
       "2395     TEDWomen 2016\n",
       "516            TED2009\n",
       "856      TEDWomen 2010\n",
       "144     TEDGlobal 2007\n",
       "650            TED2010\n",
       "Name: event, dtype: object"
      ]
     },
     "execution_count": 24,
     "metadata": {},
     "output_type": "execute_result"
    }
   ],
   "source": [
    "ted.event.sample(10)"
   ]
  },
  {
   "cell_type": "code",
   "execution_count": 25,
   "metadata": {},
   "outputs": [
    {
     "data": {
      "text/plain": [
       "0    1140825600\n",
       "1    1140825600\n",
       "2    1140739200\n",
       "3    1140912000\n",
       "4    1140566400\n",
       "Name: film_date, dtype: int64"
      ]
     },
     "execution_count": 25,
     "metadata": {},
     "output_type": "execute_result"
    }
   ],
   "source": [
    "ted.film_date.head()"
   ]
  },
  {
   "cell_type": "code",
   "execution_count": 26,
   "metadata": {},
   "outputs": [
    {
     "data": {
      "text/plain": [
       "0      2006-02-25\n",
       "1      2006-02-25\n",
       "2      2006-02-24\n",
       "3      2006-02-26\n",
       "4      2006-02-22\n",
       "          ...    \n",
       "2545   2017-06-06\n",
       "2546   2017-04-24\n",
       "2547   2017-04-24\n",
       "2548   2017-07-08\n",
       "2549   2017-04-24\n",
       "Name: film_date, Length: 2550, dtype: datetime64[ns]"
      ]
     },
     "execution_count": 26,
     "metadata": {},
     "output_type": "execute_result"
    }
   ],
   "source": [
    "pd.to_datetime(ted.film_date, unit ='s') #just include s . The unix date time will be converted "
   ]
  },
  {
   "cell_type": "code",
   "execution_count": 27,
   "metadata": {},
   "outputs": [],
   "source": [
    " ted['film_datetime'] = pd.to_datetime(ted.film_date, unit ='s')  #creating new column"
   ]
  },
  {
   "cell_type": "code",
   "execution_count": 28,
   "metadata": {},
   "outputs": [
    {
     "data": {
      "text/html": [
       "<div>\n",
       "<style scoped>\n",
       "    .dataframe tbody tr th:only-of-type {\n",
       "        vertical-align: middle;\n",
       "    }\n",
       "\n",
       "    .dataframe tbody tr th {\n",
       "        vertical-align: top;\n",
       "    }\n",
       "\n",
       "    .dataframe thead th {\n",
       "        text-align: right;\n",
       "    }\n",
       "</style>\n",
       "<table border=\"1\" class=\"dataframe\">\n",
       "  <thead>\n",
       "    <tr style=\"text-align: right;\">\n",
       "      <th></th>\n",
       "      <th>event</th>\n",
       "      <th>film_datetime</th>\n",
       "    </tr>\n",
       "  </thead>\n",
       "  <tbody>\n",
       "    <tr>\n",
       "      <td>1817</td>\n",
       "      <td>TED@NYC</td>\n",
       "      <td>2014-07-09</td>\n",
       "    </tr>\n",
       "    <tr>\n",
       "      <td>940</td>\n",
       "      <td>TED2005</td>\n",
       "      <td>2005-02-02</td>\n",
       "    </tr>\n",
       "    <tr>\n",
       "      <td>1449</td>\n",
       "      <td>TED2013</td>\n",
       "      <td>2013-02-26</td>\n",
       "    </tr>\n",
       "    <tr>\n",
       "      <td>1400</td>\n",
       "      <td>TEDSalon London Fall 2012</td>\n",
       "      <td>2012-11-07</td>\n",
       "    </tr>\n",
       "    <tr>\n",
       "      <td>2163</td>\n",
       "      <td>TED2016</td>\n",
       "      <td>2016-02-15</td>\n",
       "    </tr>\n",
       "    <tr>\n",
       "      <td>313</td>\n",
       "      <td>TED2004</td>\n",
       "      <td>2004-02-02</td>\n",
       "    </tr>\n",
       "    <tr>\n",
       "      <td>2225</td>\n",
       "      <td>TED2016</td>\n",
       "      <td>2016-02-17</td>\n",
       "    </tr>\n",
       "  </tbody>\n",
       "</table>\n",
       "</div>"
      ],
      "text/plain": [
       "                          event film_datetime\n",
       "1817                    TED@NYC    2014-07-09\n",
       "940                     TED2005    2005-02-02\n",
       "1449                    TED2013    2013-02-26\n",
       "1400  TEDSalon London Fall 2012    2012-11-07\n",
       "2163                    TED2016    2016-02-15\n",
       "313                     TED2004    2004-02-02\n",
       "2225                    TED2016    2016-02-17"
      ]
     },
     "execution_count": 28,
     "metadata": {},
     "output_type": "execute_result"
    }
   ],
   "source": [
    "ted[['event', 'film_datetime']].sample(7) #checking the conversion worked well or not"
   ]
  },
  {
   "cell_type": "code",
   "execution_count": 29,
   "metadata": {},
   "outputs": [
    {
     "data": {
      "text/plain": [
       "comments                       int64\n",
       "description                   object\n",
       "duration                       int64\n",
       "event                         object\n",
       "film_date                      int64\n",
       "languages                      int64\n",
       "main_speaker                  object\n",
       "name                          object\n",
       "num_speaker                    int64\n",
       "published_date                 int64\n",
       "ratings                       object\n",
       "related_talks                 object\n",
       "speaker_occupation            object\n",
       "tags                          object\n",
       "title                         object\n",
       "url                           object\n",
       "views                          int64\n",
       "comments_per_view            float64\n",
       "views_per_comments           float64\n",
       "film_datetime         datetime64[ns]\n",
       "dtype: object"
      ]
     },
     "execution_count": 29,
     "metadata": {},
     "output_type": "execute_result"
    }
   ],
   "source": [
    "ted.dtypes"
   ]
  },
  {
   "cell_type": "markdown",
   "metadata": {},
   "source": [
    "The pandas creates datetime datatype. \n",
    "\n",
    "It helps to easily select year, month and dayofweek"
   ]
  },
  {
   "cell_type": "code",
   "execution_count": 30,
   "metadata": {},
   "outputs": [
    {
     "data": {
      "text/plain": [
       "0       2006\n",
       "1       2006\n",
       "2       2006\n",
       "3       2006\n",
       "4       2006\n",
       "        ... \n",
       "2545    2017\n",
       "2546    2017\n",
       "2547    2017\n",
       "2548    2017\n",
       "2549    2017\n",
       "Name: film_datetime, Length: 2550, dtype: int64"
      ]
     },
     "execution_count": 30,
     "metadata": {},
     "output_type": "execute_result"
    }
   ],
   "source": [
    "ted.film_datetime.dt.year"
   ]
  },
  {
   "cell_type": "code",
   "execution_count": 31,
   "metadata": {},
   "outputs": [
    {
     "data": {
      "text/plain": [
       "0        56\n",
       "1        56\n",
       "2        55\n",
       "3        57\n",
       "4        53\n",
       "       ... \n",
       "2545    157\n",
       "2546    114\n",
       "2547    114\n",
       "2548    189\n",
       "2549    114\n",
       "Name: film_datetime, Length: 2550, dtype: int64"
      ]
     },
     "execution_count": 31,
     "metadata": {},
     "output_type": "execute_result"
    }
   ],
   "source": [
    "ted.film_datetime.dt.dayofyear"
   ]
  },
  {
   "cell_type": "code",
   "execution_count": 32,
   "metadata": {},
   "outputs": [
    {
     "data": {
      "text/plain": [
       "2550"
      ]
     },
     "execution_count": 32,
     "metadata": {},
     "output_type": "execute_result"
    }
   ],
   "source": [
    "ted.film_datetime.dt.year.count()"
   ]
  },
  {
   "cell_type": "markdown",
   "metadata": {},
   "source": [
    "Counting the no. talks in year"
   ]
  },
  {
   "cell_type": "code",
   "execution_count": 33,
   "metadata": {},
   "outputs": [
    {
     "data": {
      "text/plain": [
       "2013    270\n",
       "2011    270\n",
       "2010    267\n",
       "2012    267\n",
       "2016    246\n",
       "2015    239\n",
       "2014    237\n",
       "2009    232\n",
       "2007    114\n",
       "2017     98\n",
       "2008     84\n",
       "2005     66\n",
       "2006     50\n",
       "2003     33\n",
       "2004     33\n",
       "2002     27\n",
       "1998      6\n",
       "2001      5\n",
       "1983      1\n",
       "1991      1\n",
       "1994      1\n",
       "1990      1\n",
       "1984      1\n",
       "1972      1\n",
       "Name: film_datetime, dtype: int64"
      ]
     },
     "execution_count": 33,
     "metadata": {},
     "output_type": "execute_result"
    }
   ],
   "source": [
    "ted.film_datetime.dt.year.value_counts()"
   ]
  },
  {
   "cell_type": "code",
   "execution_count": 34,
   "metadata": {},
   "outputs": [
    {
     "data": {
      "text/plain": [
       "<matplotlib.axes._subplots.AxesSubplot at 0x7f3de77a9e10>"
      ]
     },
     "execution_count": 34,
     "metadata": {},
     "output_type": "execute_result"
    },
    {
     "data": {
      "image/png": "[encoded data removed]",
      "text/plain": [
       "<Figure size 432x288 with 1 Axes>"
      ]
     },
     "metadata": {
      "needs_background": "light"
     },
     "output_type": "display_data"
    }
   ],
   "source": [
    "ted.film_datetime.dt.year.value_counts().plot(kind ='bar')"
   ]
  },
  {
   "cell_type": "code",
   "execution_count": 35,
   "metadata": {},
   "outputs": [
    {
     "data": {
      "text/plain": [
       "<matplotlib.axes._subplots.AxesSubplot at 0x7f3de7642588>"
      ]
     },
     "execution_count": 35,
     "metadata": {},
     "output_type": "execute_result"
    },
    {
     "data": {
      "image/png": "[encoded data removed]",
      "text/plain": [
       "<Figure size 432x288 with 1 Axes>"
      ]
     },
     "metadata": {
      "needs_background": "light"
     },
     "output_type": "display_data"
    }
   ],
   "source": [
    "ted.film_datetime.dt.year.value_counts().plot(kind ='hist')"
   ]
  },
  {
   "cell_type": "code",
   "execution_count": 36,
   "metadata": {},
   "outputs": [
    {
     "data": {
      "text/plain": [
       "<matplotlib.axes._subplots.AxesSubplot at 0x7f3de748fcc0>"
      ]
     },
     "execution_count": 36,
     "metadata": {},
     "output_type": "execute_result"
    },
    {
     "data": {
      "image/png": "[encoded data removed]",
      "text/plain": [
       "<Figure size 432x288 with 1 Axes>"
      ]
     },
     "metadata": {
      "needs_background": "light"
     },
     "output_type": "display_data"
    }
   ],
   "source": [
    "ted.film_datetime.dt.year.value_counts().plot()\n",
    "                    "
   ]
  },
  {
   "cell_type": "markdown",
   "metadata": {},
   "source": [
    "This is plotting as in datat from 2013 to .. by connecting each next plot"
   ]
  },
  {
   "cell_type": "code",
   "execution_count": 37,
   "metadata": {},
   "outputs": [
    {
     "data": {
      "text/plain": [
       "<matplotlib.axes._subplots.AxesSubplot at 0x7f3de747df60>"
      ]
     },
     "execution_count": 37,
     "metadata": {},
     "output_type": "execute_result"
    },
    {
     "data": {
      "image/png": "[encoded data removed]",
      "text/plain": [
       "<Figure size 432x288 with 1 Axes>"
      ]
     },
     "metadata": {
      "needs_background": "light"
     },
     "output_type": "display_data"
    }
   ],
   "source": [
    "ted.film_datetime.dt.year.value_counts().sort_index().plot()"
   ]
  },
  {
   "cell_type": "code",
   "execution_count": 38,
   "metadata": {},
   "outputs": [
    {
     "data": {
      "text/plain": [
       "Timestamp('2017-08-27 00:00:00')"
      ]
     },
     "execution_count": 38,
     "metadata": {},
     "output_type": "execute_result"
    }
   ],
   "source": [
    "ted.film_datetime.max()"
   ]
  },
  {
   "cell_type": "markdown",
   "metadata": {},
   "source": [
    "#### What were the \"best\" events in history to attend?"
   ]
  },
  {
   "cell_type": "code",
   "execution_count": 39,
   "metadata": {},
   "outputs": [
    {
     "data": {
      "text/html": [
       "<div>\n",
       "<style scoped>\n",
       "    .dataframe tbody tr th:only-of-type {\n",
       "        vertical-align: middle;\n",
       "    }\n",
       "\n",
       "    .dataframe tbody tr th {\n",
       "        vertical-align: top;\n",
       "    }\n",
       "\n",
       "    .dataframe thead th {\n",
       "        text-align: right;\n",
       "    }\n",
       "</style>\n",
       "<table border=\"1\" class=\"dataframe\">\n",
       "  <thead>\n",
       "    <tr style=\"text-align: right;\">\n",
       "      <th></th>\n",
       "      <th>comments</th>\n",
       "      <th>description</th>\n",
       "      <th>duration</th>\n",
       "      <th>event</th>\n",
       "      <th>film_date</th>\n",
       "      <th>languages</th>\n",
       "      <th>main_speaker</th>\n",
       "      <th>name</th>\n",
       "      <th>num_speaker</th>\n",
       "      <th>published_date</th>\n",
       "      <th>ratings</th>\n",
       "      <th>related_talks</th>\n",
       "      <th>speaker_occupation</th>\n",
       "      <th>tags</th>\n",
       "      <th>title</th>\n",
       "      <th>url</th>\n",
       "      <th>views</th>\n",
       "      <th>comments_per_view</th>\n",
       "      <th>views_per_comments</th>\n",
       "      <th>film_datetime</th>\n",
       "    </tr>\n",
       "  </thead>\n",
       "  <tbody>\n",
       "    <tr>\n",
       "      <td>2195</td>\n",
       "      <td>40</td>\n",
       "      <td>Will we do whatever it takes to fight climate ...</td>\n",
       "      <td>772</td>\n",
       "      <td>TED@State Street Boston</td>\n",
       "      <td>1446508800</td>\n",
       "      <td>17</td>\n",
       "      <td>Michael Metcalfe</td>\n",
       "      <td>Michael Metcalfe: A provocative way to finance...</td>\n",
       "      <td>1</td>\n",
       "      <td>1461854801</td>\n",
       "      <td>[{'id': 8, 'name': 'Informative', 'count': 166...</td>\n",
       "      <td>[{'id': 1929, 'hero': 'https://pe.tedcdn.com/i...</td>\n",
       "      <td>Financial expert</td>\n",
       "      <td>['big problems', 'business', 'climate change',...</td>\n",
       "      <td>A provocative way to finance the fight against...</td>\n",
       "      <td>https://www.ted.com/talks/michael_metcalfe_a_p...</td>\n",
       "      <td>1184083</td>\n",
       "      <td>0.000034</td>\n",
       "      <td>29602.075000</td>\n",
       "      <td>2015-11-03 00:00:00</td>\n",
       "    </tr>\n",
       "    <tr>\n",
       "      <td>571</td>\n",
       "      <td>171</td>\n",
       "      <td>Shereen El Feki shows how some Arab cultures a...</td>\n",
       "      <td>305</td>\n",
       "      <td>TEDGlobal 2009</td>\n",
       "      <td>1247356800</td>\n",
       "      <td>33</td>\n",
       "      <td>Shereen El Feki</td>\n",
       "      <td>Shereen El Feki: Pop culture in the Arab world</td>\n",
       "      <td>1</td>\n",
       "      <td>1260518160</td>\n",
       "      <td>[{'id': 25, 'name': 'OK', 'count': 134}, {'id'...</td>\n",
       "      <td>[{'id': 684, 'hero': 'https://pe.tedcdn.com/im...</td>\n",
       "      <td>Arab sexuality expert</td>\n",
       "      <td>['Egypt', 'culture', 'entertainment', 'global ...</td>\n",
       "      <td>Pop culture in the Arab world</td>\n",
       "      <td>https://www.ted.com/talks/shereen_el_feki_pop_...</td>\n",
       "      <td>483137</td>\n",
       "      <td>0.000354</td>\n",
       "      <td>2825.362573</td>\n",
       "      <td>2009-07-12 00:00:00</td>\n",
       "    </tr>\n",
       "    <tr>\n",
       "      <td>867</td>\n",
       "      <td>229</td>\n",
       "      <td>How can architects build a new world of sustai...</td>\n",
       "      <td>826</td>\n",
       "      <td>TEDSalon London 2010</td>\n",
       "      <td>1289347200</td>\n",
       "      <td>32</td>\n",
       "      <td>Michael Pawlyn</td>\n",
       "      <td>Michael Pawlyn: Using nature's genius in archi...</td>\n",
       "      <td>1</td>\n",
       "      <td>1297351740</td>\n",
       "      <td>[{'id': 23, 'name': 'Jaw-dropping', 'count': 3...</td>\n",
       "      <td>[{'id': 614, 'hero': 'https://pe.tedcdn.com/im...</td>\n",
       "      <td>Architect</td>\n",
       "      <td>['architecture', 'biomimicry', 'design', 'scie...</td>\n",
       "      <td>Using nature's genius in architecture</td>\n",
       "      <td>https://www.ted.com/talks/michael_pawlyn_using...</td>\n",
       "      <td>1740568</td>\n",
       "      <td>0.000132</td>\n",
       "      <td>7600.733624</td>\n",
       "      <td>2010-11-10 00:00:00</td>\n",
       "    </tr>\n",
       "    <tr>\n",
       "      <td>2399</td>\n",
       "      <td>28</td>\n",
       "      <td>Gutsy girls skateboard, climb trees, clamber a...</td>\n",
       "      <td>761</td>\n",
       "      <td>TEDWomen 2016</td>\n",
       "      <td>1477440000</td>\n",
       "      <td>23</td>\n",
       "      <td>Caroline Paul</td>\n",
       "      <td>Caroline Paul: To raise brave girls, encourage...</td>\n",
       "      <td>1</td>\n",
       "      <td>1488902214</td>\n",
       "      <td>[{'id': 8, 'name': 'Informative', 'count': 201...</td>\n",
       "      <td>[{'id': 2582, 'hero': 'https://pe.tedcdn.com/i...</td>\n",
       "      <td>Author</td>\n",
       "      <td>['Gender equality', 'adventure', 'children', '...</td>\n",
       "      <td>To raise brave girls, encourage adventure</td>\n",
       "      <td>https://www.ted.com/talks/caroline_paul_to_rai...</td>\n",
       "      <td>1465808</td>\n",
       "      <td>0.000019</td>\n",
       "      <td>52350.285714</td>\n",
       "      <td>2016-10-26 00:00:00</td>\n",
       "    </tr>\n",
       "    <tr>\n",
       "      <td>597</td>\n",
       "      <td>35</td>\n",
       "      <td>Collector Ravin Agrawal delivers a glowing int...</td>\n",
       "      <td>394</td>\n",
       "      <td>TEDIndia 2009</td>\n",
       "      <td>1257465600</td>\n",
       "      <td>24</td>\n",
       "      <td>Ravin Agrawal</td>\n",
       "      <td>Ravin Agrawal: 10 young Indian artists to watch</td>\n",
       "      <td>1</td>\n",
       "      <td>1263978900</td>\n",
       "      <td>[{'id': 1, 'name': 'Beautiful', 'count': 85}, ...</td>\n",
       "      <td>[{'id': 713, 'hero': 'https://pe.tedcdn.com/im...</td>\n",
       "      <td>Investor</td>\n",
       "      <td>['Asia', 'art', 'design', 'future', 'india']</td>\n",
       "      <td>10 young Indian artists to watch</td>\n",
       "      <td>https://www.ted.com/talks/ravin_agrawal_10_you...</td>\n",
       "      <td>437800</td>\n",
       "      <td>0.000080</td>\n",
       "      <td>12508.571429</td>\n",
       "      <td>2009-11-06 00:00:00</td>\n",
       "    </tr>\n",
       "    <tr>\n",
       "      <td>675</td>\n",
       "      <td>279</td>\n",
       "      <td>In a brilliantly tongue-in-cheek analysis, Seb...</td>\n",
       "      <td>359</td>\n",
       "      <td>TED2010</td>\n",
       "      <td>1265760000</td>\n",
       "      <td>37</td>\n",
       "      <td>Sebastian Wernicke</td>\n",
       "      <td>Sebastian Wernicke: Lies, damned lies and stat...</td>\n",
       "      <td>1</td>\n",
       "      <td>1272617940</td>\n",
       "      <td>[{'id': 7, 'name': 'Funny', 'count': 5552}, {'...</td>\n",
       "      <td>[{'id': 32, 'hero': 'https://pe.tedcdn.com/ima...</td>\n",
       "      <td>Data scientist</td>\n",
       "      <td>['comedy', 'entertainment', 'humor', 'statisti...</td>\n",
       "      <td>Lies, damned lies and statistics (about TEDTalks)</td>\n",
       "      <td>https://www.ted.com/talks/lies_damned_lies_and...</td>\n",
       "      <td>2212944</td>\n",
       "      <td>0.000126</td>\n",
       "      <td>7931.698925</td>\n",
       "      <td>2010-02-10 00:00:00</td>\n",
       "    </tr>\n",
       "    <tr>\n",
       "      <td>835</td>\n",
       "      <td>868</td>\n",
       "      <td>Facebook COO Sheryl Sandberg looks at why a sm...</td>\n",
       "      <td>898</td>\n",
       "      <td>TEDWomen 2010</td>\n",
       "      <td>1291766400</td>\n",
       "      <td>46</td>\n",
       "      <td>Sheryl Sandberg</td>\n",
       "      <td>Sheryl Sandberg: Why we have too few women lea...</td>\n",
       "      <td>1</td>\n",
       "      <td>1292943083</td>\n",
       "      <td>[{'id': 10, 'name': 'Inspiring', 'count': 3817...</td>\n",
       "      <td>[{'id': 1906, 'hero': 'https://pe.tedcdn.com/i...</td>\n",
       "      <td>COO, Facebook</td>\n",
       "      <td>['Gender equality', 'business', 'feminism', 'g...</td>\n",
       "      <td>Why we have too few women leaders</td>\n",
       "      <td>https://www.ted.com/talks/sheryl_sandberg_why_...</td>\n",
       "      <td>7431179</td>\n",
       "      <td>0.000117</td>\n",
       "      <td>8561.266129</td>\n",
       "      <td>2010-12-08 00:00:00</td>\n",
       "    </tr>\n",
       "    <tr>\n",
       "      <td>679</td>\n",
       "      <td>120</td>\n",
       "      <td>Anil Gupta is on the hunt for the developing w...</td>\n",
       "      <td>1375</td>\n",
       "      <td>TEDIndia 2009</td>\n",
       "      <td>1257503160</td>\n",
       "      <td>26</td>\n",
       "      <td>Anil Gupta</td>\n",
       "      <td>Anil Gupta: India's hidden hotbeds of invention</td>\n",
       "      <td>1</td>\n",
       "      <td>1273137600</td>\n",
       "      <td>[{'id': 9, 'name': 'Ingenious', 'count': 119},...</td>\n",
       "      <td>[{'id': 702, 'hero': 'https://pe.tedcdn.com/im...</td>\n",
       "      <td>Innovation advocate</td>\n",
       "      <td>['creativity', 'entrepreneur', 'innovation', '...</td>\n",
       "      <td>India's hidden hotbeds of invention</td>\n",
       "      <td>https://www.ted.com/talks/anil_gupta_india_s_h...</td>\n",
       "      <td>649531</td>\n",
       "      <td>0.000185</td>\n",
       "      <td>5412.758333</td>\n",
       "      <td>2009-11-06 10:26:00</td>\n",
       "    </tr>\n",
       "    <tr>\n",
       "      <td>1390</td>\n",
       "      <td>183</td>\n",
       "      <td>People don't just cook anymore -- they're cook...</td>\n",
       "      <td>172</td>\n",
       "      <td>TEDGlobal 2012</td>\n",
       "      <td>1340755200</td>\n",
       "      <td>48</td>\n",
       "      <td>Paolo Cardini</td>\n",
       "      <td>Paolo Cardini: Forget multitasking, try monota...</td>\n",
       "      <td>1</td>\n",
       "      <td>1354291786</td>\n",
       "      <td>[{'id': 25, 'name': 'OK', 'count': 328}, {'id'...</td>\n",
       "      <td>[{'id': 1265, 'hero': 'https://pe.tedcdn.com/i...</td>\n",
       "      <td>Designer</td>\n",
       "      <td>['culture', 'design', 'humor', 'product design...</td>\n",
       "      <td>Forget multitasking, try monotasking</td>\n",
       "      <td>https://www.ted.com/talks/paolo_cardini_forget...</td>\n",
       "      <td>2324212</td>\n",
       "      <td>0.000079</td>\n",
       "      <td>12700.612022</td>\n",
       "      <td>2012-06-27 00:00:00</td>\n",
       "    </tr>\n",
       "    <tr>\n",
       "      <td>2391</td>\n",
       "      <td>100</td>\n",
       "      <td>Where are all the women and girls in film? Soc...</td>\n",
       "      <td>944</td>\n",
       "      <td>TEDWomen 2016</td>\n",
       "      <td>1477440000</td>\n",
       "      <td>17</td>\n",
       "      <td>Stacy Smith</td>\n",
       "      <td>Stacy Smith: The data behind Hollywood's sexism</td>\n",
       "      <td>1</td>\n",
       "      <td>1487951404</td>\n",
       "      <td>[{'id': 3, 'name': 'Courageous', 'count': 85},...</td>\n",
       "      <td>[{'id': 2466, 'hero': 'https://pe.tedcdn.com/i...</td>\n",
       "      <td>Media researcher</td>\n",
       "      <td>['activism', 'art', 'business', 'communication...</td>\n",
       "      <td>The data behind Hollywood's sexism</td>\n",
       "      <td>https://www.ted.com/talks/stacy_smith_the_data...</td>\n",
       "      <td>891398</td>\n",
       "      <td>0.000112</td>\n",
       "      <td>8913.980000</td>\n",
       "      <td>2016-10-26 00:00:00</td>\n",
       "    </tr>\n",
       "  </tbody>\n",
       "</table>\n",
       "</div>"
      ],
      "text/plain": [
       "      comments                                        description  duration  \\\n",
       "2195        40  Will we do whatever it takes to fight climate ...       772   \n",
       "571        171  Shereen El Feki shows how some Arab cultures a...       305   \n",
       "867        229  How can architects build a new world of sustai...       826   \n",
       "2399        28  Gutsy girls skateboard, climb trees, clamber a...       761   \n",
       "597         35  Collector Ravin Agrawal delivers a glowing int...       394   \n",
       "675        279  In a brilliantly tongue-in-cheek analysis, Seb...       359   \n",
       "835        868  Facebook COO Sheryl Sandberg looks at why a sm...       898   \n",
       "679        120  Anil Gupta is on the hunt for the developing w...      1375   \n",
       "1390       183  People don't just cook anymore -- they're cook...       172   \n",
       "2391       100  Where are all the women and girls in film? Soc...       944   \n",
       "\n",
       "                        event   film_date  languages        main_speaker  \\\n",
       "2195  TED@State Street Boston  1446508800         17    Michael Metcalfe   \n",
       "571            TEDGlobal 2009  1247356800         33     Shereen El Feki   \n",
       "867      TEDSalon London 2010  1289347200         32      Michael Pawlyn   \n",
       "2399            TEDWomen 2016  1477440000         23       Caroline Paul   \n",
       "597             TEDIndia 2009  1257465600         24       Ravin Agrawal   \n",
       "675                   TED2010  1265760000         37  Sebastian Wernicke   \n",
       "835             TEDWomen 2010  1291766400         46     Sheryl Sandberg   \n",
       "679             TEDIndia 2009  1257503160         26          Anil Gupta   \n",
       "1390           TEDGlobal 2012  1340755200         48       Paolo Cardini   \n",
       "2391            TEDWomen 2016  1477440000         17         Stacy Smith   \n",
       "\n",
       "                                                   name  num_speaker  \\\n",
       "2195  Michael Metcalfe: A provocative way to finance...            1   \n",
       "571      Shereen El Feki: Pop culture in the Arab world            1   \n",
       "867   Michael Pawlyn: Using nature's genius in archi...            1   \n",
       "2399  Caroline Paul: To raise brave girls, encourage...            1   \n",
       "597     Ravin Agrawal: 10 young Indian artists to watch            1   \n",
       "675   Sebastian Wernicke: Lies, damned lies and stat...            1   \n",
       "835   Sheryl Sandberg: Why we have too few women lea...            1   \n",
       "679     Anil Gupta: India's hidden hotbeds of invention            1   \n",
       "1390  Paolo Cardini: Forget multitasking, try monota...            1   \n",
       "2391    Stacy Smith: The data behind Hollywood's sexism            1   \n",
       "\n",
       "      published_date                                            ratings  \\\n",
       "2195      1461854801  [{'id': 8, 'name': 'Informative', 'count': 166...   \n",
       "571       1260518160  [{'id': 25, 'name': 'OK', 'count': 134}, {'id'...   \n",
       "867       1297351740  [{'id': 23, 'name': 'Jaw-dropping', 'count': 3...   \n",
       "2399      1488902214  [{'id': 8, 'name': 'Informative', 'count': 201...   \n",
       "597       1263978900  [{'id': 1, 'name': 'Beautiful', 'count': 85}, ...   \n",
       "675       1272617940  [{'id': 7, 'name': 'Funny', 'count': 5552}, {'...   \n",
       "835       1292943083  [{'id': 10, 'name': 'Inspiring', 'count': 3817...   \n",
       "679       1273137600  [{'id': 9, 'name': 'Ingenious', 'count': 119},...   \n",
       "1390      1354291786  [{'id': 25, 'name': 'OK', 'count': 328}, {'id'...   \n",
       "2391      1487951404  [{'id': 3, 'name': 'Courageous', 'count': 85},...   \n",
       "\n",
       "                                          related_talks  \\\n",
       "2195  [{'id': 1929, 'hero': 'https://pe.tedcdn.com/i...   \n",
       "571   [{'id': 684, 'hero': 'https://pe.tedcdn.com/im...   \n",
       "867   [{'id': 614, 'hero': 'https://pe.tedcdn.com/im...   \n",
       "2399  [{'id': 2582, 'hero': 'https://pe.tedcdn.com/i...   \n",
       "597   [{'id': 713, 'hero': 'https://pe.tedcdn.com/im...   \n",
       "675   [{'id': 32, 'hero': 'https://pe.tedcdn.com/ima...   \n",
       "835   [{'id': 1906, 'hero': 'https://pe.tedcdn.com/i...   \n",
       "679   [{'id': 702, 'hero': 'https://pe.tedcdn.com/im...   \n",
       "1390  [{'id': 1265, 'hero': 'https://pe.tedcdn.com/i...   \n",
       "2391  [{'id': 2466, 'hero': 'https://pe.tedcdn.com/i...   \n",
       "\n",
       "         speaker_occupation  \\\n",
       "2195       Financial expert   \n",
       "571   Arab sexuality expert   \n",
       "867               Architect   \n",
       "2399                 Author   \n",
       "597               Investor    \n",
       "675          Data scientist   \n",
       "835           COO, Facebook   \n",
       "679     Innovation advocate   \n",
       "1390               Designer   \n",
       "2391       Media researcher   \n",
       "\n",
       "                                                   tags  \\\n",
       "2195  ['big problems', 'business', 'climate change',...   \n",
       "571   ['Egypt', 'culture', 'entertainment', 'global ...   \n",
       "867   ['architecture', 'biomimicry', 'design', 'scie...   \n",
       "2399  ['Gender equality', 'adventure', 'children', '...   \n",
       "597        ['Asia', 'art', 'design', 'future', 'india']   \n",
       "675   ['comedy', 'entertainment', 'humor', 'statisti...   \n",
       "835   ['Gender equality', 'business', 'feminism', 'g...   \n",
       "679   ['creativity', 'entrepreneur', 'innovation', '...   \n",
       "1390  ['culture', 'design', 'humor', 'product design...   \n",
       "2391  ['activism', 'art', 'business', 'communication...   \n",
       "\n",
       "                                                  title  \\\n",
       "2195  A provocative way to finance the fight against...   \n",
       "571                       Pop culture in the Arab world   \n",
       "867               Using nature's genius in architecture   \n",
       "2399          To raise brave girls, encourage adventure   \n",
       "597                    10 young Indian artists to watch   \n",
       "675   Lies, damned lies and statistics (about TEDTalks)   \n",
       "835                   Why we have too few women leaders   \n",
       "679                 India's hidden hotbeds of invention   \n",
       "1390               Forget multitasking, try monotasking   \n",
       "2391                 The data behind Hollywood's sexism   \n",
       "\n",
       "                                                    url    views  \\\n",
       "2195  https://www.ted.com/talks/michael_metcalfe_a_p...  1184083   \n",
       "571   https://www.ted.com/talks/shereen_el_feki_pop_...   483137   \n",
       "867   https://www.ted.com/talks/michael_pawlyn_using...  1740568   \n",
       "2399  https://www.ted.com/talks/caroline_paul_to_rai...  1465808   \n",
       "597   https://www.ted.com/talks/ravin_agrawal_10_you...   437800   \n",
       "675   https://www.ted.com/talks/lies_damned_lies_and...  2212944   \n",
       "835   https://www.ted.com/talks/sheryl_sandberg_why_...  7431179   \n",
       "679   https://www.ted.com/talks/anil_gupta_india_s_h...   649531   \n",
       "1390  https://www.ted.com/talks/paolo_cardini_forget...  2324212   \n",
       "2391  https://www.ted.com/talks/stacy_smith_the_data...   891398   \n",
       "\n",
       "      comments_per_view  views_per_comments       film_datetime  \n",
       "2195           0.000034        29602.075000 2015-11-03 00:00:00  \n",
       "571            0.000354         2825.362573 2009-07-12 00:00:00  \n",
       "867            0.000132         7600.733624 2010-11-10 00:00:00  \n",
       "2399           0.000019        52350.285714 2016-10-26 00:00:00  \n",
       "597            0.000080        12508.571429 2009-11-06 00:00:00  \n",
       "675            0.000126         7931.698925 2010-02-10 00:00:00  \n",
       "835            0.000117         8561.266129 2010-12-08 00:00:00  \n",
       "679            0.000185         5412.758333 2009-11-06 10:26:00  \n",
       "1390           0.000079        12700.612022 2012-06-27 00:00:00  \n",
       "2391           0.000112         8913.980000 2016-10-26 00:00:00  "
      ]
     },
     "execution_count": 39,
     "metadata": {},
     "output_type": "execute_result"
    }
   ],
   "source": [
    "ted.sample(10)"
   ]
  },
  {
   "cell_type": "code",
   "execution_count": 40,
   "metadata": {},
   "outputs": [
    {
     "data": {
      "text/plain": [
       "72"
      ]
     },
     "execution_count": 40,
     "metadata": {},
     "output_type": "execute_result"
    }
   ],
   "source": [
    "ted.languages.max()"
   ]
  },
  {
   "cell_type": "markdown",
   "metadata": {},
   "source": [
    "##### All Ted Events and their mean  views"
   ]
  },
  {
   "cell_type": "code",
   "execution_count": 41,
   "metadata": {},
   "outputs": [
    {
     "data": {
      "text/plain": [
       "event\n",
       "AORN Congress                  149818.0\n",
       "Arbejdsglaede Live             971594.0\n",
       "BBC TV                         521974.0\n",
       "Bowery Poetry Club             676741.0\n",
       "Business Innovation Factory    304086.0\n",
       "Name: views, dtype: float64"
      ]
     },
     "execution_count": 41,
     "metadata": {},
     "output_type": "execute_result"
    }
   ],
   "source": [
    "ted.groupby('event').views.mean().head() #mean no. of view for each event|"
   ]
  },
  {
   "cell_type": "code",
   "execution_count": 42,
   "metadata": {},
   "outputs": [
    {
     "data": {
      "text/plain": [
       "event\n",
       "TEDxNorrkoping        6569493.0\n",
       "TEDxCreativeCoast     8444981.0\n",
       "TEDxBloomington       9484259.5\n",
       "TEDxHouston          16140250.5\n",
       "TEDxPuget Sound      34309432.0\n",
       "Name: views, dtype: float64"
      ]
     },
     "execution_count": 42,
     "metadata": {},
     "output_type": "execute_result"
    }
   ],
   "source": [
    "ted.groupby('event').views.mean().sort_values().tail()"
   ]
  },
  {
   "cell_type": "markdown",
   "metadata": {},
   "source": [
    "Some events has only few talks "
   ]
  },
  {
   "cell_type": "markdown",
   "metadata": {},
   "source": [
    "###### Finding how many talks each events has"
   ]
  },
  {
   "cell_type": "code",
   "execution_count": 43,
   "metadata": {},
   "outputs": [
    {
     "data": {
      "text/html": [
       "<div>\n",
       "<style scoped>\n",
       "    .dataframe tbody tr th:only-of-type {\n",
       "        vertical-align: middle;\n",
       "    }\n",
       "\n",
       "    .dataframe tbody tr th {\n",
       "        vertical-align: top;\n",
       "    }\n",
       "\n",
       "    .dataframe thead th {\n",
       "        text-align: right;\n",
       "    }\n",
       "</style>\n",
       "<table border=\"1\" class=\"dataframe\">\n",
       "  <thead>\n",
       "    <tr style=\"text-align: right;\">\n",
       "      <th></th>\n",
       "      <th>comments</th>\n",
       "      <th>description</th>\n",
       "      <th>duration</th>\n",
       "      <th>film_date</th>\n",
       "      <th>languages</th>\n",
       "      <th>main_speaker</th>\n",
       "      <th>name</th>\n",
       "      <th>num_speaker</th>\n",
       "      <th>published_date</th>\n",
       "      <th>ratings</th>\n",
       "      <th>related_talks</th>\n",
       "      <th>speaker_occupation</th>\n",
       "      <th>tags</th>\n",
       "      <th>title</th>\n",
       "      <th>url</th>\n",
       "      <th>views</th>\n",
       "      <th>comments_per_view</th>\n",
       "      <th>views_per_comments</th>\n",
       "      <th>film_datetime</th>\n",
       "    </tr>\n",
       "    <tr>\n",
       "      <th>event</th>\n",
       "      <th></th>\n",
       "      <th></th>\n",
       "      <th></th>\n",
       "      <th></th>\n",
       "      <th></th>\n",
       "      <th></th>\n",
       "      <th></th>\n",
       "      <th></th>\n",
       "      <th></th>\n",
       "      <th></th>\n",
       "      <th></th>\n",
       "      <th></th>\n",
       "      <th></th>\n",
       "      <th></th>\n",
       "      <th></th>\n",
       "      <th></th>\n",
       "      <th></th>\n",
       "      <th></th>\n",
       "      <th></th>\n",
       "    </tr>\n",
       "  </thead>\n",
       "  <tbody>\n",
       "    <tr>\n",
       "      <td>AORN Congress</td>\n",
       "      <td>1</td>\n",
       "      <td>1</td>\n",
       "      <td>1</td>\n",
       "      <td>1</td>\n",
       "      <td>1</td>\n",
       "      <td>1</td>\n",
       "      <td>1</td>\n",
       "      <td>1</td>\n",
       "      <td>1</td>\n",
       "      <td>1</td>\n",
       "      <td>1</td>\n",
       "      <td>1</td>\n",
       "      <td>1</td>\n",
       "      <td>1</td>\n",
       "      <td>1</td>\n",
       "      <td>1</td>\n",
       "      <td>1</td>\n",
       "      <td>1</td>\n",
       "      <td>1</td>\n",
       "    </tr>\n",
       "    <tr>\n",
       "      <td>Arbejdsglaede Live</td>\n",
       "      <td>1</td>\n",
       "      <td>1</td>\n",
       "      <td>1</td>\n",
       "      <td>1</td>\n",
       "      <td>1</td>\n",
       "      <td>1</td>\n",
       "      <td>1</td>\n",
       "      <td>1</td>\n",
       "      <td>1</td>\n",
       "      <td>1</td>\n",
       "      <td>1</td>\n",
       "      <td>1</td>\n",
       "      <td>1</td>\n",
       "      <td>1</td>\n",
       "      <td>1</td>\n",
       "      <td>1</td>\n",
       "      <td>1</td>\n",
       "      <td>1</td>\n",
       "      <td>1</td>\n",
       "    </tr>\n",
       "    <tr>\n",
       "      <td>BBC TV</td>\n",
       "      <td>1</td>\n",
       "      <td>1</td>\n",
       "      <td>1</td>\n",
       "      <td>1</td>\n",
       "      <td>1</td>\n",
       "      <td>1</td>\n",
       "      <td>1</td>\n",
       "      <td>1</td>\n",
       "      <td>1</td>\n",
       "      <td>1</td>\n",
       "      <td>1</td>\n",
       "      <td>1</td>\n",
       "      <td>1</td>\n",
       "      <td>1</td>\n",
       "      <td>1</td>\n",
       "      <td>1</td>\n",
       "      <td>1</td>\n",
       "      <td>1</td>\n",
       "      <td>1</td>\n",
       "    </tr>\n",
       "    <tr>\n",
       "      <td>Bowery Poetry Club</td>\n",
       "      <td>1</td>\n",
       "      <td>1</td>\n",
       "      <td>1</td>\n",
       "      <td>1</td>\n",
       "      <td>1</td>\n",
       "      <td>1</td>\n",
       "      <td>1</td>\n",
       "      <td>1</td>\n",
       "      <td>1</td>\n",
       "      <td>1</td>\n",
       "      <td>1</td>\n",
       "      <td>1</td>\n",
       "      <td>1</td>\n",
       "      <td>1</td>\n",
       "      <td>1</td>\n",
       "      <td>1</td>\n",
       "      <td>1</td>\n",
       "      <td>1</td>\n",
       "      <td>1</td>\n",
       "    </tr>\n",
       "    <tr>\n",
       "      <td>Business Innovation Factory</td>\n",
       "      <td>3</td>\n",
       "      <td>3</td>\n",
       "      <td>3</td>\n",
       "      <td>3</td>\n",
       "      <td>3</td>\n",
       "      <td>3</td>\n",
       "      <td>3</td>\n",
       "      <td>3</td>\n",
       "      <td>3</td>\n",
       "      <td>3</td>\n",
       "      <td>3</td>\n",
       "      <td>3</td>\n",
       "      <td>3</td>\n",
       "      <td>3</td>\n",
       "      <td>3</td>\n",
       "      <td>3</td>\n",
       "      <td>3</td>\n",
       "      <td>3</td>\n",
       "      <td>3</td>\n",
       "    </tr>\n",
       "    <tr>\n",
       "      <td>...</td>\n",
       "      <td>...</td>\n",
       "      <td>...</td>\n",
       "      <td>...</td>\n",
       "      <td>...</td>\n",
       "      <td>...</td>\n",
       "      <td>...</td>\n",
       "      <td>...</td>\n",
       "      <td>...</td>\n",
       "      <td>...</td>\n",
       "      <td>...</td>\n",
       "      <td>...</td>\n",
       "      <td>...</td>\n",
       "      <td>...</td>\n",
       "      <td>...</td>\n",
       "      <td>...</td>\n",
       "      <td>...</td>\n",
       "      <td>...</td>\n",
       "      <td>...</td>\n",
       "      <td>...</td>\n",
       "    </tr>\n",
       "    <tr>\n",
       "      <td>The Do Lectures</td>\n",
       "      <td>1</td>\n",
       "      <td>1</td>\n",
       "      <td>1</td>\n",
       "      <td>1</td>\n",
       "      <td>1</td>\n",
       "      <td>1</td>\n",
       "      <td>1</td>\n",
       "      <td>1</td>\n",
       "      <td>1</td>\n",
       "      <td>1</td>\n",
       "      <td>1</td>\n",
       "      <td>1</td>\n",
       "      <td>1</td>\n",
       "      <td>1</td>\n",
       "      <td>1</td>\n",
       "      <td>1</td>\n",
       "      <td>1</td>\n",
       "      <td>1</td>\n",
       "      <td>1</td>\n",
       "    </tr>\n",
       "    <tr>\n",
       "      <td>Toronto Youth Corps</td>\n",
       "      <td>1</td>\n",
       "      <td>1</td>\n",
       "      <td>1</td>\n",
       "      <td>1</td>\n",
       "      <td>1</td>\n",
       "      <td>1</td>\n",
       "      <td>1</td>\n",
       "      <td>1</td>\n",
       "      <td>1</td>\n",
       "      <td>1</td>\n",
       "      <td>1</td>\n",
       "      <td>1</td>\n",
       "      <td>1</td>\n",
       "      <td>1</td>\n",
       "      <td>1</td>\n",
       "      <td>1</td>\n",
       "      <td>1</td>\n",
       "      <td>1</td>\n",
       "      <td>1</td>\n",
       "    </tr>\n",
       "    <tr>\n",
       "      <td>University of California</td>\n",
       "      <td>2</td>\n",
       "      <td>2</td>\n",
       "      <td>2</td>\n",
       "      <td>2</td>\n",
       "      <td>2</td>\n",
       "      <td>2</td>\n",
       "      <td>2</td>\n",
       "      <td>2</td>\n",
       "      <td>2</td>\n",
       "      <td>2</td>\n",
       "      <td>2</td>\n",
       "      <td>2</td>\n",
       "      <td>2</td>\n",
       "      <td>2</td>\n",
       "      <td>2</td>\n",
       "      <td>2</td>\n",
       "      <td>2</td>\n",
       "      <td>2</td>\n",
       "      <td>2</td>\n",
       "    </tr>\n",
       "    <tr>\n",
       "      <td>Web 2.0 Expo 2008</td>\n",
       "      <td>1</td>\n",
       "      <td>1</td>\n",
       "      <td>1</td>\n",
       "      <td>1</td>\n",
       "      <td>1</td>\n",
       "      <td>1</td>\n",
       "      <td>1</td>\n",
       "      <td>1</td>\n",
       "      <td>1</td>\n",
       "      <td>1</td>\n",
       "      <td>1</td>\n",
       "      <td>1</td>\n",
       "      <td>1</td>\n",
       "      <td>1</td>\n",
       "      <td>1</td>\n",
       "      <td>1</td>\n",
       "      <td>1</td>\n",
       "      <td>1</td>\n",
       "      <td>1</td>\n",
       "    </tr>\n",
       "    <tr>\n",
       "      <td>World Science Festival</td>\n",
       "      <td>1</td>\n",
       "      <td>1</td>\n",
       "      <td>1</td>\n",
       "      <td>1</td>\n",
       "      <td>1</td>\n",
       "      <td>1</td>\n",
       "      <td>1</td>\n",
       "      <td>1</td>\n",
       "      <td>1</td>\n",
       "      <td>1</td>\n",
       "      <td>1</td>\n",
       "      <td>1</td>\n",
       "      <td>1</td>\n",
       "      <td>1</td>\n",
       "      <td>1</td>\n",
       "      <td>1</td>\n",
       "      <td>1</td>\n",
       "      <td>1</td>\n",
       "      <td>1</td>\n",
       "    </tr>\n",
       "  </tbody>\n",
       "</table>\n",
       "<p>355 rows × 19 columns</p>\n",
       "</div>"
      ],
      "text/plain": [
       "                             comments  description  duration  film_date  \\\n",
       "event                                                                     \n",
       "AORN Congress                       1            1         1          1   \n",
       "Arbejdsglaede Live                  1            1         1          1   \n",
       "BBC TV                              1            1         1          1   \n",
       "Bowery Poetry Club                  1            1         1          1   \n",
       "Business Innovation Factory         3            3         3          3   \n",
       "...                               ...          ...       ...        ...   \n",
       "The Do Lectures                     1            1         1          1   \n",
       "Toronto Youth Corps                 1            1         1          1   \n",
       "University of California            2            2         2          2   \n",
       "Web 2.0 Expo 2008                   1            1         1          1   \n",
       "World Science Festival              1            1         1          1   \n",
       "\n",
       "                             languages  main_speaker  name  num_speaker  \\\n",
       "event                                                                     \n",
       "AORN Congress                        1             1     1            1   \n",
       "Arbejdsglaede Live                   1             1     1            1   \n",
       "BBC TV                               1             1     1            1   \n",
       "Bowery Poetry Club                   1             1     1            1   \n",
       "Business Innovation Factory          3             3     3            3   \n",
       "...                                ...           ...   ...          ...   \n",
       "The Do Lectures                      1             1     1            1   \n",
       "Toronto Youth Corps                  1             1     1            1   \n",
       "University of California             2             2     2            2   \n",
       "Web 2.0 Expo 2008                    1             1     1            1   \n",
       "World Science Festival               1             1     1            1   \n",
       "\n",
       "                             published_date  ratings  related_talks  \\\n",
       "event                                                                 \n",
       "AORN Congress                             1        1              1   \n",
       "Arbejdsglaede Live                        1        1              1   \n",
       "BBC TV                                    1        1              1   \n",
       "Bowery Poetry Club                        1        1              1   \n",
       "Business Innovation Factory               3        3              3   \n",
       "...                                     ...      ...            ...   \n",
       "The Do Lectures                           1        1              1   \n",
       "Toronto Youth Corps                       1        1              1   \n",
       "University of California                  2        2              2   \n",
       "Web 2.0 Expo 2008                         1        1              1   \n",
       "World Science Festival                    1        1              1   \n",
       "\n",
       "                             speaker_occupation  tags  title  url  views  \\\n",
       "event                                                                      \n",
       "AORN Congress                                 1     1      1    1      1   \n",
       "Arbejdsglaede Live                            1     1      1    1      1   \n",
       "BBC TV                                        1     1      1    1      1   \n",
       "Bowery Poetry Club                            1     1      1    1      1   \n",
       "Business Innovation Factory                   3     3      3    3      3   \n",
       "...                                         ...   ...    ...  ...    ...   \n",
       "The Do Lectures                               1     1      1    1      1   \n",
       "Toronto Youth Corps                           1     1      1    1      1   \n",
       "University of California                      2     2      2    2      2   \n",
       "Web 2.0 Expo 2008                             1     1      1    1      1   \n",
       "World Science Festival                        1     1      1    1      1   \n",
       "\n",
       "                             comments_per_view  views_per_comments  \\\n",
       "event                                                                \n",
       "AORN Congress                                1                   1   \n",
       "Arbejdsglaede Live                           1                   1   \n",
       "BBC TV                                       1                   1   \n",
       "Bowery Poetry Club                           1                   1   \n",
       "Business Innovation Factory                  3                   3   \n",
       "...                                        ...                 ...   \n",
       "The Do Lectures                              1                   1   \n",
       "Toronto Youth Corps                          1                   1   \n",
       "University of California                     2                   2   \n",
       "Web 2.0 Expo 2008                            1                   1   \n",
       "World Science Festival                       1                   1   \n",
       "\n",
       "                             film_datetime  \n",
       "event                                       \n",
       "AORN Congress                            1  \n",
       "Arbejdsglaede Live                       1  \n",
       "BBC TV                                   1  \n",
       "Bowery Poetry Club                       1  \n",
       "Business Innovation Factory              3  \n",
       "...                                    ...  \n",
       "The Do Lectures                          1  \n",
       "Toronto Youth Corps                      1  \n",
       "University of California                 2  \n",
       "Web 2.0 Expo 2008                        1  \n",
       "World Science Festival                   1  \n",
       "\n",
       "[355 rows x 19 columns]"
      ]
     },
     "execution_count": 43,
     "metadata": {},
     "output_type": "execute_result"
    }
   ],
   "source": [
    "ted.groupby('event').count() #this didnt give result"
   ]
  },
  {
   "cell_type": "code",
   "execution_count": 44,
   "metadata": {},
   "outputs": [
    {
     "data": {
      "text/html": [
       "<div>\n",
       "<style scoped>\n",
       "    .dataframe tbody tr th:only-of-type {\n",
       "        vertical-align: middle;\n",
       "    }\n",
       "\n",
       "    .dataframe tbody tr th {\n",
       "        vertical-align: top;\n",
       "    }\n",
       "\n",
       "    .dataframe thead th {\n",
       "        text-align: right;\n",
       "    }\n",
       "</style>\n",
       "<table border=\"1\" class=\"dataframe\">\n",
       "  <thead>\n",
       "    <tr style=\"text-align: right;\">\n",
       "      <th></th>\n",
       "      <th>count</th>\n",
       "      <th>mean</th>\n",
       "    </tr>\n",
       "    <tr>\n",
       "      <th>event</th>\n",
       "      <th></th>\n",
       "      <th></th>\n",
       "    </tr>\n",
       "  </thead>\n",
       "  <tbody>\n",
       "    <tr>\n",
       "      <td>TEDxNorrkoping</td>\n",
       "      <td>1</td>\n",
       "      <td>6569493.0</td>\n",
       "    </tr>\n",
       "    <tr>\n",
       "      <td>TEDxCreativeCoast</td>\n",
       "      <td>1</td>\n",
       "      <td>8444981.0</td>\n",
       "    </tr>\n",
       "    <tr>\n",
       "      <td>TEDxBloomington</td>\n",
       "      <td>2</td>\n",
       "      <td>9484259.5</td>\n",
       "    </tr>\n",
       "    <tr>\n",
       "      <td>TEDxHouston</td>\n",
       "      <td>2</td>\n",
       "      <td>16140250.5</td>\n",
       "    </tr>\n",
       "    <tr>\n",
       "      <td>TEDxPuget Sound</td>\n",
       "      <td>1</td>\n",
       "      <td>34309432.0</td>\n",
       "    </tr>\n",
       "  </tbody>\n",
       "</table>\n",
       "</div>"
      ],
      "text/plain": [
       "                   count        mean\n",
       "event                               \n",
       "TEDxNorrkoping         1   6569493.0\n",
       "TEDxCreativeCoast      1   8444981.0\n",
       "TEDxBloomington        2   9484259.5\n",
       "TEDxHouston            2  16140250.5\n",
       "TEDxPuget Sound        1  34309432.0"
      ]
     },
     "execution_count": 44,
     "metadata": {},
     "output_type": "execute_result"
    }
   ],
   "source": [
    "#using aggregate\n",
    "ted.groupby('event').views.agg(['count', 'mean']).sort_values('mean').tail() #we are grouping event, selecting view and and aggregating"
   ]
  },
  {
   "cell_type": "code",
   "execution_count": 45,
   "metadata": {},
   "outputs": [
    {
     "data": {
      "text/html": [
       "<div>\n",
       "<style scoped>\n",
       "    .dataframe tbody tr th:only-of-type {\n",
       "        vertical-align: middle;\n",
       "    }\n",
       "\n",
       "    .dataframe tbody tr th {\n",
       "        vertical-align: top;\n",
       "    }\n",
       "\n",
       "    .dataframe thead th {\n",
       "        text-align: right;\n",
       "    }\n",
       "</style>\n",
       "<table border=\"1\" class=\"dataframe\">\n",
       "  <thead>\n",
       "    <tr style=\"text-align: right;\">\n",
       "      <th></th>\n",
       "      <th>count</th>\n",
       "      <th>mean</th>\n",
       "      <th>sum</th>\n",
       "    </tr>\n",
       "    <tr>\n",
       "      <th>event</th>\n",
       "      <th></th>\n",
       "      <th></th>\n",
       "      <th></th>\n",
       "    </tr>\n",
       "  </thead>\n",
       "  <tbody>\n",
       "    <tr>\n",
       "      <td>TED2006</td>\n",
       "      <td>45</td>\n",
       "      <td>3.274345e+06</td>\n",
       "      <td>147345533</td>\n",
       "    </tr>\n",
       "    <tr>\n",
       "      <td>TED2015</td>\n",
       "      <td>75</td>\n",
       "      <td>2.011017e+06</td>\n",
       "      <td>150826305</td>\n",
       "    </tr>\n",
       "    <tr>\n",
       "      <td>TEDGlobal 2013</td>\n",
       "      <td>66</td>\n",
       "      <td>2.584163e+06</td>\n",
       "      <td>170554736</td>\n",
       "    </tr>\n",
       "    <tr>\n",
       "      <td>TED2014</td>\n",
       "      <td>84</td>\n",
       "      <td>2.072874e+06</td>\n",
       "      <td>174121423</td>\n",
       "    </tr>\n",
       "    <tr>\n",
       "      <td>TED2013</td>\n",
       "      <td>77</td>\n",
       "      <td>2.302700e+06</td>\n",
       "      <td>177307937</td>\n",
       "    </tr>\n",
       "  </tbody>\n",
       "</table>\n",
       "</div>"
      ],
      "text/plain": [
       "                count          mean        sum\n",
       "event                                         \n",
       "TED2006            45  3.274345e+06  147345533\n",
       "TED2015            75  2.011017e+06  150826305\n",
       "TEDGlobal 2013     66  2.584163e+06  170554736\n",
       "TED2014            84  2.072874e+06  174121423\n",
       "TED2013            77  2.302700e+06  177307937"
      ]
     },
     "execution_count": 45,
     "metadata": {},
     "output_type": "execute_result"
    }
   ],
   "source": [
    "#looking what event has most total no.of views\n",
    "ted.groupby('event').views.agg(['count', 'mean', 'sum']).sort_values('sum').tail() #we are grouping event, selecting view and and aggregating"
   ]
  },
  {
   "cell_type": "markdown",
   "metadata": {},
   "source": [
    "## Unpack the rating data"
   ]
  },
  {
   "cell_type": "code",
   "execution_count": 46,
   "metadata": {},
   "outputs": [
    {
     "data": {
      "text/plain": [
       "1356    [{'id': 24, 'name': 'Persuasive', 'count': 229...\n",
       "1026    [{'id': 1, 'name': 'Beautiful', 'count': 251},...\n",
       "1733    [{'id': 8, 'name': 'Informative', 'count': 143...\n",
       "787     [{'id': 10, 'name': 'Inspiring', 'count': 504}...\n",
       "450     [{'id': 22, 'name': 'Fascinating', 'count': 84...\n",
       "2520    [{'id': 23, 'name': 'Jaw-dropping', 'count': 2...\n",
       "Name: ratings, dtype: object"
      ]
     },
     "execution_count": 46,
     "metadata": {},
     "output_type": "execute_result"
    }
   ],
   "source": [
    "ted.ratings.sample(6\n",
    "                  )"
   ]
  },
  {
   "cell_type": "code",
   "execution_count": 47,
   "metadata": {},
   "outputs": [
    {
     "data": {
      "text/plain": [
       "\"[{'id': 7, 'name': 'Funny', 'count': 19645}, {'id': 1, 'name': 'Beautiful', 'count': 4573}, {'id': 9, 'name': 'Ingenious', 'count': 6073}, {'id': 3, 'name': 'Courageous', 'count': 3253}, {'id': 11, 'name': 'Longwinded', 'count': 387}, {'id': 2, 'name': 'Confusing', 'count': 242}, {'id': 8, 'name': 'Informative', 'count': 7346}, {'id': 22, 'name': 'Fascinating', 'count': 10581}, {'id': 21, 'name': 'Unconvincing', 'count': 300}, {'id': 24, 'name': 'Persuasive', 'count': 10704}, {'id': 23, 'name': 'Jaw-dropping', 'count': 4439}, {'id': 25, 'name': 'OK', 'count': 1174}, {'id': 26, 'name': 'Obnoxious', 'count': 209}, {'id': 10, 'name': 'Inspiring', 'count': 24924}]\""
      ]
     },
     "execution_count": 47,
     "metadata": {},
     "output_type": "execute_result"
    }
   ],
   "source": [
    "ted.loc[0, 'ratings']  # taking row 0 column rating"
   ]
  },
  {
   "cell_type": "markdown",
   "metadata": {},
   "source": [
    " Or,\n",
    " \n",
    " we can use\n",
    " \n",
    " ted.ratings[0]"
   ]
  },
  {
   "cell_type": "code",
   "execution_count": 48,
   "metadata": {},
   "outputs": [
    {
     "data": {
      "text/plain": [
       "str"
      ]
     },
     "execution_count": 48,
     "metadata": {},
     "output_type": "execute_result"
    }
   ],
   "source": [
    "type(ted.ratings[0])"
   ]
  },
  {
   "cell_type": "code",
   "execution_count": 49,
   "metadata": {},
   "outputs": [],
   "source": [
    "import ast  #abstract syntax tree"
   ]
  },
  {
   "cell_type": "code",
   "execution_count": 52,
   "metadata": {},
   "outputs": [
    {
     "data": {
      "text/plain": [
       "[1, 2, 3]"
      ]
     },
     "execution_count": 52,
     "metadata": {},
     "output_type": "execute_result"
    }
   ],
   "source": [
    "ast.literal_eval('[1,2,3]') #allows to evaluate "
   ]
  },
  {
   "cell_type": "markdown",
   "metadata": {},
   "source": [
    "\n",
    "\n",
    "eval: This is very powerful, but is also very dangerous if you accept strings to evaluate from untrusted input. Suppose the string being evaluated is \"os.system('rm -rf /')\" ? It will really start deleting all the files on your computer.\n",
    "\n",
    "\n",
    "ast.literal_eval: Safely evaluate an expression node or a string containing a Python literal or container display. The string or node provided may only consist of the following Python literal structures: strings, bytes, numbers, tuples, lists, dicts, sets, booleans, None, bytes and sets."
   ]
  },
  {
   "cell_type": "code",
   "execution_count": 54,
   "metadata": {},
   "outputs": [
    {
     "data": {
      "text/plain": [
       "[{'id': 7, 'name': 'Funny', 'count': 19645},\n",
       " {'id': 1, 'name': 'Beautiful', 'count': 4573},\n",
       " {'id': 9, 'name': 'Ingenious', 'count': 6073},\n",
       " {'id': 3, 'name': 'Courageous', 'count': 3253},\n",
       " {'id': 11, 'name': 'Longwinded', 'count': 387},\n",
       " {'id': 2, 'name': 'Confusing', 'count': 242},\n",
       " {'id': 8, 'name': 'Informative', 'count': 7346},\n",
       " {'id': 22, 'name': 'Fascinating', 'count': 10581},\n",
       " {'id': 21, 'name': 'Unconvincing', 'count': 300},\n",
       " {'id': 24, 'name': 'Persuasive', 'count': 10704},\n",
       " {'id': 23, 'name': 'Jaw-dropping', 'count': 4439},\n",
       " {'id': 25, 'name': 'OK', 'count': 1174},\n",
       " {'id': 26, 'name': 'Obnoxious', 'count': 209},\n",
       " {'id': 10, 'name': 'Inspiring', 'count': 24924}]"
      ]
     },
     "execution_count": 54,
     "metadata": {},
     "output_type": "execute_result"
    }
   ],
   "source": [
    "ast.literal_eval(ted.ratings[0])"
   ]
  },
  {
   "cell_type": "code",
   "execution_count": 57,
   "metadata": {},
   "outputs": [],
   "source": [
    "#creating custom function and returning eval\n",
    "def strtolist(rating_str):\n",
    "    return ast.literal_eval(rating_str)\n"
   ]
  },
  {
   "cell_type": "code",
   "execution_count": 58,
   "metadata": {},
   "outputs": [
    {
     "data": {
      "text/plain": [
       "[{'id': 7, 'name': 'Funny', 'count': 19645},\n",
       " {'id': 1, 'name': 'Beautiful', 'count': 4573},\n",
       " {'id': 9, 'name': 'Ingenious', 'count': 6073},\n",
       " {'id': 3, 'name': 'Courageous', 'count': 3253},\n",
       " {'id': 11, 'name': 'Longwinded', 'count': 387},\n",
       " {'id': 2, 'name': 'Confusing', 'count': 242},\n",
       " {'id': 8, 'name': 'Informative', 'count': 7346},\n",
       " {'id': 22, 'name': 'Fascinating', 'count': 10581},\n",
       " {'id': 21, 'name': 'Unconvincing', 'count': 300},\n",
       " {'id': 24, 'name': 'Persuasive', 'count': 10704},\n",
       " {'id': 23, 'name': 'Jaw-dropping', 'count': 4439},\n",
       " {'id': 25, 'name': 'OK', 'count': 1174},\n",
       " {'id': 26, 'name': 'Obnoxious', 'count': 209},\n",
       " {'id': 10, 'name': 'Inspiring', 'count': 24924}]"
      ]
     },
     "execution_count": 58,
     "metadata": {},
     "output_type": "execute_result"
    }
   ],
   "source": [
    "strtolist(ted.ratings[0])"
   ]
  },
  {
   "cell_type": "code",
   "execution_count": 61,
   "metadata": {},
   "outputs": [
    {
     "data": {
      "text/plain": [
       "0    [{'id': 7, 'name': 'Funny', 'count': 19645}, {...\n",
       "1    [{'id': 7, 'name': 'Funny', 'count': 544}, {'i...\n",
       "2    [{'id': 7, 'name': 'Funny', 'count': 964}, {'i...\n",
       "3    [{'id': 3, 'name': 'Courageous', 'count': 760}...\n",
       "4    [{'id': 9, 'name': 'Ingenious', 'count': 3202}...\n",
       "Name: ratings, dtype: object"
      ]
     },
     "execution_count": 61,
     "metadata": {},
     "output_type": "execute_result"
    }
   ],
   "source": [
    "ted.ratings.apply(ast.literal_eval).head()"
   ]
  },
  {
   "cell_type": "code",
   "execution_count": 65,
   "metadata": {},
   "outputs": [],
   "source": [
    "ted['ratings_list'] = ted.ratings.apply(lambda x: ast.literal_eval(x))"
   ]
  },
  {
   "cell_type": "code",
   "execution_count": 94,
   "metadata": {},
   "outputs": [
    {
     "data": {
      "text/plain": [
       "[{'id': 7, 'name': 'Funny', 'count': 19645},\n",
       " {'id': 1, 'name': 'Beautiful', 'count': 4573},\n",
       " {'id': 9, 'name': 'Ingenious', 'count': 6073},\n",
       " {'id': 3, 'name': 'Courageous', 'count': 3253},\n",
       " {'id': 11, 'name': 'Longwinded', 'count': 387},\n",
       " {'id': 2, 'name': 'Confusing', 'count': 242},\n",
       " {'id': 8, 'name': 'Informative', 'count': 7346},\n",
       " {'id': 22, 'name': 'Fascinating', 'count': 10581},\n",
       " {'id': 21, 'name': 'Unconvincing', 'count': 300},\n",
       " {'id': 24, 'name': 'Persuasive', 'count': 10704},\n",
       " {'id': 23, 'name': 'Jaw-dropping', 'count': 4439},\n",
       " {'id': 25, 'name': 'OK', 'count': 1174},\n",
       " {'id': 26, 'name': 'Obnoxious', 'count': 209},\n",
       " {'id': 10, 'name': 'Inspiring', 'count': 24924}]"
      ]
     },
     "execution_count": 94,
     "metadata": {},
     "output_type": "execute_result"
    }
   ],
   "source": [
    "ted.ratings_list[0]"
   ]
  },
  {
   "cell_type": "code",
   "execution_count": 75,
   "metadata": {},
   "outputs": [
    {
     "data": {
      "text/plain": [
       "list"
      ]
     },
     "execution_count": 75,
     "metadata": {},
     "output_type": "execute_result"
    }
   ],
   "source": [
    "type(ted.ratings_list[0])"
   ]
  },
  {
   "cell_type": "markdown",
   "metadata": {},
   "source": [
    "#### Count the total no. of ratings for each talk"
   ]
  },
  {
   "cell_type": "code",
   "execution_count": 117,
   "metadata": {},
   "outputs": [],
   "source": [
    "def get_num_ratings(list_of_dicts):\n",
    "    return list_of_dicts[0]"
   ]
  },
  {
   "cell_type": "code",
   "execution_count": 118,
   "metadata": {},
   "outputs": [
    {
     "data": {
      "text/plain": [
       "{'id': 7, 'name': 'Funny', 'count': 19645}"
      ]
     },
     "execution_count": 118,
     "metadata": {},
     "output_type": "execute_result"
    }
   ],
   "source": [
    "get_num_ratings(ted.ratings_list[0])"
   ]
  },
  {
   "cell_type": "code",
   "execution_count": 119,
   "metadata": {},
   "outputs": [],
   "source": [
    "#taking count"
   ]
  },
  {
   "cell_type": "code",
   "execution_count": 120,
   "metadata": {},
   "outputs": [],
   "source": [
    "def get_num_ratings(list_of_dicts):\n",
    "    return list_of_dicts[0]['count']"
   ]
  },
  {
   "cell_type": "code",
   "execution_count": 122,
   "metadata": {},
   "outputs": [
    {
     "data": {
      "text/plain": [
       "19645"
      ]
     },
     "execution_count": 122,
     "metadata": {},
     "output_type": "execute_result"
    }
   ],
   "source": [
    "get_num_ratings(ted.ratings_list[0])"
   ]
  },
  {
   "cell_type": "code",
   "execution_count": 123,
   "metadata": {},
   "outputs": [
    {
     "data": {
      "text/plain": [
       "562"
      ]
     },
     "execution_count": 123,
     "metadata": {},
     "output_type": "execute_result"
    }
   ],
   "source": [
    "get_num_ratings(ted.ratings_list[8])"
   ]
  },
  {
   "cell_type": "markdown",
   "metadata": {},
   "source": [
    "##### Creating Loop to calculate for all value"
   ]
  },
  {
   "cell_type": "code",
   "execution_count": 124,
   "metadata": {},
   "outputs": [],
   "source": [
    "def get_num_ratings(list_of_dicts): \n",
    "    num = 0\n",
    "    for d in list_of_dicts:\n",
    "        num = num + d['count']\n",
    "    return num\n",
    "                    \n",
    "    "
   ]
  },
  {
   "cell_type": "code",
   "execution_count": 125,
   "metadata": {},
   "outputs": [
    {
     "data": {
      "text/plain": [
       "93850"
      ]
     },
     "execution_count": 125,
     "metadata": {},
     "output_type": "execute_result"
    }
   ],
   "source": [
    "get_num_ratings(ted.ratings_list[0])"
   ]
  },
  {
   "cell_type": "code",
   "execution_count": 126,
   "metadata": {},
   "outputs": [],
   "source": [
    "ted['num_ratings']  = ted.ratings_list.apply(get_num_ratings)"
   ]
  },
  {
   "cell_type": "code",
   "execution_count": 127,
   "metadata": {},
   "outputs": [
    {
     "data": {
      "text/plain": [
       "count     2550.000000\n",
       "mean      2436.408235\n",
       "std       4226.795631\n",
       "min         68.000000\n",
       "25%        870.750000\n",
       "50%       1452.500000\n",
       "75%       2506.750000\n",
       "max      93850.000000\n",
       "Name: num_ratings, dtype: float64"
      ]
     },
     "execution_count": 127,
     "metadata": {},
     "output_type": "execute_result"
    }
   ],
   "source": [
    "ted.num_ratings.describe()"
   ]
  },
  {
   "cell_type": "markdown",
   "metadata": {},
   "source": [
    "#### Or , we can do it by using"
   ]
  },
  {
   "cell_type": "code",
   "execution_count": 128,
   "metadata": {},
   "outputs": [
    {
     "data": {
      "text/html": [
       "<div>\n",
       "<style scoped>\n",
       "    .dataframe tbody tr th:only-of-type {\n",
       "        vertical-align: middle;\n",
       "    }\n",
       "\n",
       "    .dataframe tbody tr th {\n",
       "        vertical-align: top;\n",
       "    }\n",
       "\n",
       "    .dataframe thead th {\n",
       "        text-align: right;\n",
       "    }\n",
       "</style>\n",
       "<table border=\"1\" class=\"dataframe\">\n",
       "  <thead>\n",
       "    <tr style=\"text-align: right;\">\n",
       "      <th></th>\n",
       "      <th>id</th>\n",
       "      <th>name</th>\n",
       "      <th>count</th>\n",
       "    </tr>\n",
       "  </thead>\n",
       "  <tbody>\n",
       "    <tr>\n",
       "      <td>0</td>\n",
       "      <td>7</td>\n",
       "      <td>Funny</td>\n",
       "      <td>19645</td>\n",
       "    </tr>\n",
       "    <tr>\n",
       "      <td>1</td>\n",
       "      <td>1</td>\n",
       "      <td>Beautiful</td>\n",
       "      <td>4573</td>\n",
       "    </tr>\n",
       "    <tr>\n",
       "      <td>2</td>\n",
       "      <td>9</td>\n",
       "      <td>Ingenious</td>\n",
       "      <td>6073</td>\n",
       "    </tr>\n",
       "    <tr>\n",
       "      <td>3</td>\n",
       "      <td>3</td>\n",
       "      <td>Courageous</td>\n",
       "      <td>3253</td>\n",
       "    </tr>\n",
       "    <tr>\n",
       "      <td>4</td>\n",
       "      <td>11</td>\n",
       "      <td>Longwinded</td>\n",
       "      <td>387</td>\n",
       "    </tr>\n",
       "    <tr>\n",
       "      <td>5</td>\n",
       "      <td>2</td>\n",
       "      <td>Confusing</td>\n",
       "      <td>242</td>\n",
       "    </tr>\n",
       "    <tr>\n",
       "      <td>6</td>\n",
       "      <td>8</td>\n",
       "      <td>Informative</td>\n",
       "      <td>7346</td>\n",
       "    </tr>\n",
       "    <tr>\n",
       "      <td>7</td>\n",
       "      <td>22</td>\n",
       "      <td>Fascinating</td>\n",
       "      <td>10581</td>\n",
       "    </tr>\n",
       "    <tr>\n",
       "      <td>8</td>\n",
       "      <td>21</td>\n",
       "      <td>Unconvincing</td>\n",
       "      <td>300</td>\n",
       "    </tr>\n",
       "    <tr>\n",
       "      <td>9</td>\n",
       "      <td>24</td>\n",
       "      <td>Persuasive</td>\n",
       "      <td>10704</td>\n",
       "    </tr>\n",
       "    <tr>\n",
       "      <td>10</td>\n",
       "      <td>23</td>\n",
       "      <td>Jaw-dropping</td>\n",
       "      <td>4439</td>\n",
       "    </tr>\n",
       "    <tr>\n",
       "      <td>11</td>\n",
       "      <td>25</td>\n",
       "      <td>OK</td>\n",
       "      <td>1174</td>\n",
       "    </tr>\n",
       "    <tr>\n",
       "      <td>12</td>\n",
       "      <td>26</td>\n",
       "      <td>Obnoxious</td>\n",
       "      <td>209</td>\n",
       "    </tr>\n",
       "    <tr>\n",
       "      <td>13</td>\n",
       "      <td>10</td>\n",
       "      <td>Inspiring</td>\n",
       "      <td>24924</td>\n",
       "    </tr>\n",
       "  </tbody>\n",
       "</table>\n",
       "</div>"
      ],
      "text/plain": [
       "    id          name  count\n",
       "0    7         Funny  19645\n",
       "1    1     Beautiful   4573\n",
       "2    9     Ingenious   6073\n",
       "3    3    Courageous   3253\n",
       "4   11    Longwinded    387\n",
       "5    2     Confusing    242\n",
       "6    8   Informative   7346\n",
       "7   22   Fascinating  10581\n",
       "8   21  Unconvincing    300\n",
       "9   24    Persuasive  10704\n",
       "10  23  Jaw-dropping   4439\n",
       "11  25            OK   1174\n",
       "12  26     Obnoxious    209\n",
       "13  10     Inspiring  24924"
      ]
     },
     "execution_count": 128,
     "metadata": {},
     "output_type": "execute_result"
    }
   ],
   "source": [
    "pd.DataFrame(ted.ratings_list[0])"
   ]
  },
  {
   "cell_type": "code",
   "execution_count": 129,
   "metadata": {},
   "outputs": [
    {
     "data": {
      "text/plain": [
       "93850"
      ]
     },
     "execution_count": 129,
     "metadata": {},
     "output_type": "execute_result"
    }
   ],
   "source": [
    "pd.DataFrame(ted.ratings_list[0])['count'].sum()\n"
   ]
  },
  {
   "cell_type": "markdown",
   "metadata": {},
   "source": [
    "##### Which occupations deliever the funniest ted talks on average?\n"
   ]
  },
  {
   "cell_type": "code",
   "execution_count": 143,
   "metadata": {},
   "outputs": [
    {
     "data": {
      "text/plain": [
       "0    [{'id': 7, 'name': 'Funny', 'count': 19645}, {...\n",
       "1    [{'id': 7, 'name': 'Funny', 'count': 544}, {'i...\n",
       "2    [{'id': 7, 'name': 'Funny', 'count': 964}, {'i...\n",
       "3    [{'id': 3, 'name': 'Courageous', 'count': 760}...\n",
       "4    [{'id': 9, 'name': 'Ingenious', 'count': 3202}...\n",
       "Name: ratings_list, dtype: object"
      ]
     },
     "execution_count": 143,
     "metadata": {},
     "output_type": "execute_result"
    }
   ],
   "source": [
    "ted.ratings_list.head()"
   ]
  },
  {
   "cell_type": "code",
   "execution_count": 144,
   "metadata": {},
   "outputs": [
    {
     "data": {
      "text/plain": [
       "True    2550\n",
       "Name: ratings, dtype: int64"
      ]
     },
     "execution_count": 144,
     "metadata": {},
     "output_type": "execute_result"
    }
   ],
   "source": [
    "ted.ratings.str.contains('Funny').value_counts()"
   ]
  },
  {
   "cell_type": "markdown",
   "metadata": {},
   "source": [
    "This indicates that there is funny rating in every.."
   ]
  },
  {
   "cell_type": "code",
   "execution_count": 146,
   "metadata": {},
   "outputs": [],
   "source": [
    "def get_funny_ratings(list_of_dicts):\n",
    "    for d in list_of_dicts:\n",
    "        if d['name']  == 'Funny':\n",
    "            return d['count']"
   ]
  },
  {
   "cell_type": "code",
   "execution_count": 147,
   "metadata": {},
   "outputs": [
    {
     "data": {
      "text/plain": [
       "0       19645\n",
       "1         544\n",
       "2         964\n",
       "3          59\n",
       "4        1390\n",
       "        ...  \n",
       "2545        1\n",
       "2546       20\n",
       "2547        1\n",
       "2548       63\n",
       "2549        0\n",
       "Name: ratings_list, Length: 2550, dtype: int64"
      ]
     },
     "execution_count": 147,
     "metadata": {},
     "output_type": "execute_result"
    }
   ],
   "source": [
    "ted.ratings_list.apply(get_funny_ratings)"
   ]
  },
  {
   "cell_type": "code",
   "execution_count": 148,
   "metadata": {},
   "outputs": [],
   "source": [
    "ted['funny_ratings'] = ted.ratings_list.apply(get_funny_ratings)"
   ]
  },
  {
   "cell_type": "code",
   "execution_count": 149,
   "metadata": {},
   "outputs": [
    {
     "data": {
      "text/plain": [
       "0    19645\n",
       "1      544\n",
       "2      964\n",
       "3       59\n",
       "4     1390\n",
       "Name: funny_ratings, dtype: int64"
      ]
     },
     "execution_count": 149,
     "metadata": {},
     "output_type": "execute_result"
    }
   ],
   "source": [
    "ted.funny_ratings.head()"
   ]
  },
  {
   "cell_type": "code",
   "execution_count": 150,
   "metadata": {},
   "outputs": [],
   "source": [
    "ted['funny_rate'] = ted.funny_ratings / ted.num_ratings"
   ]
  },
  {
   "cell_type": "code",
   "execution_count": 154,
   "metadata": {},
   "outputs": [
    {
     "data": {
      "text/plain": [
       "1849                       Science humorist\n",
       "337                                Comedian\n",
       "124     Performance poet, multimedia artist\n",
       "315                                  Expert\n",
       "1168             Social energy entrepreneur\n",
       "1468                          Ornithologist\n",
       "595                  Comedian, voice artist\n",
       "1534                         Cartoon editor\n",
       "97                                 Satirist\n",
       "2297                          Actor, writer\n",
       "568                                Comedian\n",
       "675                          Data scientist\n",
       "21                     Humorist, web artist\n",
       "194                                Jugglers\n",
       "2273                    Comedian and writer\n",
       "2114                    Comedian and writer\n",
       "173                                Investor\n",
       "747                                Comedian\n",
       "1398                               Comedian\n",
       "685             Actor, comedian, playwright\n",
       "Name: speaker_occupation, dtype: object"
      ]
     },
     "execution_count": 154,
     "metadata": {},
     "output_type": "execute_result"
    }
   ],
   "source": [
    "ted.sort_values('funny_rate').speaker_occupation.tail(20) #checking who are delivering funny talks"
   ]
  },
  {
   "cell_type": "code",
   "execution_count": 155,
   "metadata": {},
   "outputs": [
    {
     "data": {
      "text/plain": [
       "2549               Game designer\n",
       "1612                   Biologist\n",
       "612                     Sculptor\n",
       "998               Penguin expert\n",
       "593                     Engineer\n",
       "284               Space activist\n",
       "1041         Biomedical engineer\n",
       "1618      Spinal cord researcher\n",
       "2132    Computational geneticist\n",
       "442                     Sculptor\n",
       "426              Author, thinker\n",
       "458                     Educator\n",
       "2437      Environmental engineer\n",
       "1491             Photojournalist\n",
       "1893     Forensic anthropologist\n",
       "783             Marine biologist\n",
       "195                    Kenyan MP\n",
       "772             HIV/AIDS fighter\n",
       "788            Building activist\n",
       "936                Neuroengineer\n",
       "Name: speaker_occupation, dtype: object"
      ]
     },
     "execution_count": 155,
     "metadata": {},
     "output_type": "execute_result"
    }
   ],
   "source": [
    "ted.sort_values('funny_rate').speaker_occupation.head(20) #these are least funny talks"
   ]
  },
  {
   "cell_type": "markdown",
   "metadata": {},
   "source": [
    "##### Analyze the funny rate by occupation"
   ]
  },
  {
   "cell_type": "code",
   "execution_count": 159,
   "metadata": {},
   "outputs": [
    {
     "data": {
      "text/plain": [
       "speaker_occupation\n",
       "Comedian                       0.512457\n",
       "Actor, writer                  0.515152\n",
       "Actor, comedian, playwright    0.558107\n",
       "Jugglers                       0.566828\n",
       "Comedian and writer            0.602085\n",
       "Name: funny_rate, dtype: float64"
      ]
     },
     "execution_count": 159,
     "metadata": {},
     "output_type": "execute_result"
    }
   ],
   "source": [
    "ted.groupby('speaker_occupation').funny_rate.mean().sort_values().tail()"
   ]
  },
  {
   "cell_type": "markdown",
   "metadata": {},
   "source": [
    "#### Method 2"
   ]
  },
  {
   "cell_type": "code",
   "execution_count": 160,
   "metadata": {},
   "outputs": [
    {
     "data": {
      "text/plain": [
       "count       2544\n",
       "unique      1458\n",
       "top       Writer\n",
       "freq          45\n",
       "Name: speaker_occupation, dtype: object"
      ]
     },
     "execution_count": 160,
     "metadata": {},
     "output_type": "execute_result"
    }
   ],
   "source": [
    "ted.speaker_occupation.describe()"
   ]
  },
  {
   "cell_type": "markdown",
   "metadata": {},
   "source": [
    "1458 occupations are unique"
   ]
  },
  {
   "cell_type": "code",
   "execution_count": 161,
   "metadata": {},
   "outputs": [
    {
     "data": {
      "text/plain": [
       "Writer                       45\n",
       "Designer                     34\n",
       "Artist                       34\n",
       "Journalist                   33\n",
       "Entrepreneur                 31\n",
       "                             ..\n",
       "Neuroscientist                1\n",
       "Humanitarian psychologist     1\n",
       "Media studies scholar         1\n",
       "Global prioritizer            1\n",
       "Security maven                1\n",
       "Name: speaker_occupation, Length: 1458, dtype: int64"
      ]
     },
     "execution_count": 161,
     "metadata": {},
     "output_type": "execute_result"
    }
   ],
   "source": [
    "ted.speaker_occupation.value_counts()"
   ]
  },
  {
   "cell_type": "code",
   "execution_count": 163,
   "metadata": {},
   "outputs": [],
   "source": [
    "occupation_counts = ted.speaker_occupation.value_counts()"
   ]
  },
  {
   "cell_type": "code",
   "execution_count": 164,
   "metadata": {},
   "outputs": [
    {
     "data": {
      "text/plain": [
       "Index(['Writer', 'Designer', 'Artist', 'Journalist', 'Entrepreneur',\n",
       "       'Architect', 'Inventor', 'Psychologist', 'Photographer', 'Filmmaker',\n",
       "       'Economist', 'Educator', 'Neuroscientist', 'Author', 'Roboticist',\n",
       "       'Philosopher', 'Biologist', 'Physicist', 'Musician', 'Marine biologist',\n",
       "       'Activist', 'Global health expert; data visionary', 'Technologist',\n",
       "       'Poet', 'Philanthropist', 'Oceanographer', 'Astronomer',\n",
       "       'Behavioral economist', 'Graphic designer', 'Historian',\n",
       "       'Singer/songwriter', 'Futurist', 'Computer scientist', 'Novelist',\n",
       "       'Social psychologist', 'Engineer', 'Astrophysicist', 'Mathematician',\n",
       "       'Singer-songwriter', 'Performance poet, multimedia artist',\n",
       "       'Legal activist', 'Climate advocate', 'Photojournalist',\n",
       "       'Writer, activist', 'Comedian', 'Social entrepreneur', 'Reporter',\n",
       "       'Evolutionary biologist', 'Techno-illusionist', 'Game designer',\n",
       "       'Data scientist', 'Producer', 'Chemist', 'Environmentalist, futurist',\n",
       "       'Sound consultant', 'Cartoonist', 'Social Media Theorist',\n",
       "       'Paleontologist', 'Chef', 'Investor and advocate for moral leadership',\n",
       "       'Musician, activist', 'Researcher', 'Sculptor', 'Science writer',\n",
       "       'Tech visionary', 'Physician', 'Surgeon', 'Violinist'],\n",
       "      dtype='object')"
      ]
     },
     "execution_count": 164,
     "metadata": {},
     "output_type": "execute_result"
    }
   ],
   "source": [
    "occupation_counts[occupation_counts >=5].index"
   ]
  },
  {
   "cell_type": "code",
   "execution_count": 165,
   "metadata": {},
   "outputs": [],
   "source": [
    "top_occupations = occupation_counts[occupation_counts >=5].index"
   ]
  },
  {
   "cell_type": "code",
   "execution_count": 168,
   "metadata": {},
   "outputs": [
    {
     "data": {
      "text/plain": [
       "pandas.core.indexes.base.Index"
      ]
     },
     "execution_count": 168,
     "metadata": {},
     "output_type": "execute_result"
    }
   ],
   "source": [
    "type(top_occupations)"
   ]
  },
  {
   "cell_type": "code",
   "execution_count": 170,
   "metadata": {},
   "outputs": [
    {
     "data": {
      "text/html": [
       "<div>\n",
       "<style scoped>\n",
       "    .dataframe tbody tr th:only-of-type {\n",
       "        vertical-align: middle;\n",
       "    }\n",
       "\n",
       "    .dataframe tbody tr th {\n",
       "        vertical-align: top;\n",
       "    }\n",
       "\n",
       "    .dataframe thead th {\n",
       "        text-align: right;\n",
       "    }\n",
       "</style>\n",
       "<table border=\"1\" class=\"dataframe\">\n",
       "  <thead>\n",
       "    <tr style=\"text-align: right;\">\n",
       "      <th></th>\n",
       "      <th>comments</th>\n",
       "      <th>description</th>\n",
       "      <th>duration</th>\n",
       "      <th>event</th>\n",
       "      <th>film_date</th>\n",
       "      <th>languages</th>\n",
       "      <th>main_speaker</th>\n",
       "      <th>name</th>\n",
       "      <th>num_speaker</th>\n",
       "      <th>published_date</th>\n",
       "      <th>...</th>\n",
       "      <th>title</th>\n",
       "      <th>url</th>\n",
       "      <th>views</th>\n",
       "      <th>comments_per_view</th>\n",
       "      <th>views_per_comments</th>\n",
       "      <th>film_datetime</th>\n",
       "      <th>ratings_list</th>\n",
       "      <th>num_ratings</th>\n",
       "      <th>funny_ratings</th>\n",
       "      <th>funny_rate</th>\n",
       "    </tr>\n",
       "  </thead>\n",
       "  <tbody>\n",
       "    <tr>\n",
       "      <td>1</td>\n",
       "      <td>265</td>\n",
       "      <td>With the same humor and humanity he exuded in ...</td>\n",
       "      <td>977</td>\n",
       "      <td>TED2006</td>\n",
       "      <td>1140825600</td>\n",
       "      <td>43</td>\n",
       "      <td>Al Gore</td>\n",
       "      <td>Al Gore: Averting the climate crisis</td>\n",
       "      <td>1</td>\n",
       "      <td>1151367060</td>\n",
       "      <td>...</td>\n",
       "      <td>Averting the climate crisis</td>\n",
       "      <td>https://www.ted.com/talks/al_gore_on_averting_...</td>\n",
       "      <td>3200520</td>\n",
       "      <td>0.000083</td>\n",
       "      <td>12077.433962</td>\n",
       "      <td>2006-02-25</td>\n",
       "      <td>[{'id': 7, 'name': 'Funny', 'count': 544}, {'i...</td>\n",
       "      <td>2936</td>\n",
       "      <td>544</td>\n",
       "      <td>0.185286</td>\n",
       "    </tr>\n",
       "    <tr>\n",
       "      <td>4</td>\n",
       "      <td>593</td>\n",
       "      <td>You've never seen data presented like this. Wi...</td>\n",
       "      <td>1190</td>\n",
       "      <td>TED2006</td>\n",
       "      <td>1140566400</td>\n",
       "      <td>48</td>\n",
       "      <td>Hans Rosling</td>\n",
       "      <td>Hans Rosling: The best stats you've ever seen</td>\n",
       "      <td>1</td>\n",
       "      <td>1151440680</td>\n",
       "      <td>...</td>\n",
       "      <td>The best stats you've ever seen</td>\n",
       "      <td>https://www.ted.com/talks/hans_rosling_shows_t...</td>\n",
       "      <td>12005869</td>\n",
       "      <td>0.000049</td>\n",
       "      <td>20245.984823</td>\n",
       "      <td>2006-02-22</td>\n",
       "      <td>[{'id': 9, 'name': 'Ingenious', 'count': 3202}...</td>\n",
       "      <td>25620</td>\n",
       "      <td>1390</td>\n",
       "      <td>0.054254</td>\n",
       "    </tr>\n",
       "    <tr>\n",
       "      <td>7</td>\n",
       "      <td>46</td>\n",
       "      <td>Architect Joshua Prince-Ramus takes the audien...</td>\n",
       "      <td>1198</td>\n",
       "      <td>TED2006</td>\n",
       "      <td>1140652800</td>\n",
       "      <td>19</td>\n",
       "      <td>Joshua Prince-Ramus</td>\n",
       "      <td>Joshua Prince-Ramus: Behind the design of Seat...</td>\n",
       "      <td>1</td>\n",
       "      <td>1152490260</td>\n",
       "      <td>...</td>\n",
       "      <td>Behind the design of Seattle's library</td>\n",
       "      <td>https://www.ted.com/talks/joshua_prince_ramus_...</td>\n",
       "      <td>967741</td>\n",
       "      <td>0.000048</td>\n",
       "      <td>21037.847826</td>\n",
       "      <td>2006-02-23</td>\n",
       "      <td>[{'id': 9, 'name': 'Ingenious', 'count': 195},...</td>\n",
       "      <td>1024</td>\n",
       "      <td>9</td>\n",
       "      <td>0.008789</td>\n",
       "    </tr>\n",
       "    <tr>\n",
       "      <td>11</td>\n",
       "      <td>55</td>\n",
       "      <td>Jehane Noujaim unveils her 2006 TED Prize wish...</td>\n",
       "      <td>1538</td>\n",
       "      <td>TED2006</td>\n",
       "      <td>1140912000</td>\n",
       "      <td>20</td>\n",
       "      <td>Jehane Noujaim</td>\n",
       "      <td>Jehane Noujaim: My wish: A global day of film</td>\n",
       "      <td>1</td>\n",
       "      <td>1153786260</td>\n",
       "      <td>...</td>\n",
       "      <td>My wish: A global day of film</td>\n",
       "      <td>https://www.ted.com/talks/jehane_noujaim_inspi...</td>\n",
       "      <td>387877</td>\n",
       "      <td>0.000142</td>\n",
       "      <td>7052.309091</td>\n",
       "      <td>2006-02-26</td>\n",
       "      <td>[{'id': 1, 'name': 'Beautiful', 'count': 70}, ...</td>\n",
       "      <td>592</td>\n",
       "      <td>5</td>\n",
       "      <td>0.008446</td>\n",
       "    </tr>\n",
       "    <tr>\n",
       "      <td>14</td>\n",
       "      <td>99</td>\n",
       "      <td>Nicholas Negroponte, founder of the MIT Media ...</td>\n",
       "      <td>1057</td>\n",
       "      <td>TED2006</td>\n",
       "      <td>1140652800</td>\n",
       "      <td>25</td>\n",
       "      <td>Nicholas Negroponte</td>\n",
       "      <td>Nicholas Negroponte: One Laptop per Child</td>\n",
       "      <td>1</td>\n",
       "      <td>1154391060</td>\n",
       "      <td>...</td>\n",
       "      <td>One Laptop per Child</td>\n",
       "      <td>https://www.ted.com/talks/nicholas_negroponte_...</td>\n",
       "      <td>358304</td>\n",
       "      <td>0.000276</td>\n",
       "      <td>3619.232323</td>\n",
       "      <td>2006-02-23</td>\n",
       "      <td>[{'id': 3, 'name': 'Courageous', 'count': 83},...</td>\n",
       "      <td>781</td>\n",
       "      <td>14</td>\n",
       "      <td>0.017926</td>\n",
       "    </tr>\n",
       "    <tr>\n",
       "      <td>...</td>\n",
       "      <td>...</td>\n",
       "      <td>...</td>\n",
       "      <td>...</td>\n",
       "      <td>...</td>\n",
       "      <td>...</td>\n",
       "      <td>...</td>\n",
       "      <td>...</td>\n",
       "      <td>...</td>\n",
       "      <td>...</td>\n",
       "      <td>...</td>\n",
       "      <td>...</td>\n",
       "      <td>...</td>\n",
       "      <td>...</td>\n",
       "      <td>...</td>\n",
       "      <td>...</td>\n",
       "      <td>...</td>\n",
       "      <td>...</td>\n",
       "      <td>...</td>\n",
       "      <td>...</td>\n",
       "      <td>...</td>\n",
       "      <td>...</td>\n",
       "    </tr>\n",
       "    <tr>\n",
       "      <td>2539</td>\n",
       "      <td>10</td>\n",
       "      <td>Forget quinoa. Meet fonio, an ancient \"miracle...</td>\n",
       "      <td>934</td>\n",
       "      <td>TED2017</td>\n",
       "      <td>1503792000</td>\n",
       "      <td>2</td>\n",
       "      <td>Pierre Thiam</td>\n",
       "      <td>Pierre Thiam: A forgotten ancient grain that c...</td>\n",
       "      <td>1</td>\n",
       "      <td>1505313942</td>\n",
       "      <td>...</td>\n",
       "      <td>A forgotten ancient grain that could help Afri...</td>\n",
       "      <td>https://www.ted.com/talks/pierre_thiam_a_forgo...</td>\n",
       "      <td>527314</td>\n",
       "      <td>0.000019</td>\n",
       "      <td>52731.400000</td>\n",
       "      <td>2017-08-27</td>\n",
       "      <td>[{'id': 10, 'name': 'Inspiring', 'count': 73},...</td>\n",
       "      <td>256</td>\n",
       "      <td>2</td>\n",
       "      <td>0.007812</td>\n",
       "    </tr>\n",
       "    <tr>\n",
       "      <td>2541</td>\n",
       "      <td>12</td>\n",
       "      <td>Physics doesn't just happen in a fancy lab -- ...</td>\n",
       "      <td>957</td>\n",
       "      <td>TEDxManchester</td>\n",
       "      <td>1487462400</td>\n",
       "      <td>2</td>\n",
       "      <td>Helen Czerski</td>\n",
       "      <td>Helen Czerski: The fascinating physics of ever...</td>\n",
       "      <td>1</td>\n",
       "      <td>1505419202</td>\n",
       "      <td>...</td>\n",
       "      <td>The fascinating physics of everyday life</td>\n",
       "      <td>https://www.ted.com/talks/helen_czerski_fun_ho...</td>\n",
       "      <td>656791</td>\n",
       "      <td>0.000018</td>\n",
       "      <td>54732.583333</td>\n",
       "      <td>2017-02-19</td>\n",
       "      <td>[{'id': 11, 'name': 'Longwinded', 'count': 29}...</td>\n",
       "      <td>378</td>\n",
       "      <td>39</td>\n",
       "      <td>0.103175</td>\n",
       "    </tr>\n",
       "    <tr>\n",
       "      <td>2542</td>\n",
       "      <td>3</td>\n",
       "      <td>In the century-old statues that occupy Cape To...</td>\n",
       "      <td>795</td>\n",
       "      <td>TEDGlobal 2017</td>\n",
       "      <td>1503792000</td>\n",
       "      <td>1</td>\n",
       "      <td>Sethembile Msezane</td>\n",
       "      <td>Sethembile Msezane: Living sculptures that sta...</td>\n",
       "      <td>1</td>\n",
       "      <td>1505488093</td>\n",
       "      <td>...</td>\n",
       "      <td>Living sculptures that stand for history's truths</td>\n",
       "      <td>https://www.ted.com/talks/sethembile_msezane_l...</td>\n",
       "      <td>542088</td>\n",
       "      <td>0.000006</td>\n",
       "      <td>180696.000000</td>\n",
       "      <td>2017-08-27</td>\n",
       "      <td>[{'id': 1, 'name': 'Beautiful', 'count': 41}, ...</td>\n",
       "      <td>181</td>\n",
       "      <td>6</td>\n",
       "      <td>0.033149</td>\n",
       "    </tr>\n",
       "    <tr>\n",
       "      <td>2545</td>\n",
       "      <td>17</td>\n",
       "      <td>Between 2008 and 2016, the United States depor...</td>\n",
       "      <td>476</td>\n",
       "      <td>TED2017</td>\n",
       "      <td>1496707200</td>\n",
       "      <td>4</td>\n",
       "      <td>Duarte Geraldino</td>\n",
       "      <td>Duarte Geraldino: What we're missing in the de...</td>\n",
       "      <td>1</td>\n",
       "      <td>1505851216</td>\n",
       "      <td>...</td>\n",
       "      <td>What we're missing in the debate about immigra...</td>\n",
       "      <td>https://www.ted.com/talks/duarte_geraldino_wha...</td>\n",
       "      <td>450430</td>\n",
       "      <td>0.000038</td>\n",
       "      <td>26495.882353</td>\n",
       "      <td>2017-06-06</td>\n",
       "      <td>[{'id': 3, 'name': 'Courageous', 'count': 24},...</td>\n",
       "      <td>192</td>\n",
       "      <td>1</td>\n",
       "      <td>0.005208</td>\n",
       "    </tr>\n",
       "    <tr>\n",
       "      <td>2549</td>\n",
       "      <td>8</td>\n",
       "      <td>With more than half of the world population li...</td>\n",
       "      <td>519</td>\n",
       "      <td>TED2017</td>\n",
       "      <td>1492992000</td>\n",
       "      <td>1</td>\n",
       "      <td>Karoliina Korppoo</td>\n",
       "      <td>Karoliina Korppoo: How a video game might help...</td>\n",
       "      <td>1</td>\n",
       "      <td>1506092422</td>\n",
       "      <td>...</td>\n",
       "      <td>How a video game might help us build better ci...</td>\n",
       "      <td>https://www.ted.com/talks/karoliina_korppoo_ho...</td>\n",
       "      <td>391721</td>\n",
       "      <td>0.000020</td>\n",
       "      <td>48965.125000</td>\n",
       "      <td>2017-04-24</td>\n",
       "      <td>[{'id': 21, 'name': 'Unconvincing', 'count': 2...</td>\n",
       "      <td>142</td>\n",
       "      <td>0</td>\n",
       "      <td>0.000000</td>\n",
       "    </tr>\n",
       "  </tbody>\n",
       "</table>\n",
       "<p>786 rows × 24 columns</p>\n",
       "</div>"
      ],
      "text/plain": [
       "      comments                                        description  duration  \\\n",
       "1          265  With the same humor and humanity he exuded in ...       977   \n",
       "4          593  You've never seen data presented like this. Wi...      1190   \n",
       "7           46  Architect Joshua Prince-Ramus takes the audien...      1198   \n",
       "11          55  Jehane Noujaim unveils her 2006 TED Prize wish...      1538   \n",
       "14          99  Nicholas Negroponte, founder of the MIT Media ...      1057   \n",
       "...        ...                                                ...       ...   \n",
       "2539        10  Forget quinoa. Meet fonio, an ancient \"miracle...       934   \n",
       "2541        12  Physics doesn't just happen in a fancy lab -- ...       957   \n",
       "2542         3  In the century-old statues that occupy Cape To...       795   \n",
       "2545        17  Between 2008 and 2016, the United States depor...       476   \n",
       "2549         8  With more than half of the world population li...       519   \n",
       "\n",
       "               event   film_date  languages         main_speaker  \\\n",
       "1            TED2006  1140825600         43              Al Gore   \n",
       "4            TED2006  1140566400         48         Hans Rosling   \n",
       "7            TED2006  1140652800         19  Joshua Prince-Ramus   \n",
       "11           TED2006  1140912000         20       Jehane Noujaim   \n",
       "14           TED2006  1140652800         25  Nicholas Negroponte   \n",
       "...              ...         ...        ...                  ...   \n",
       "2539         TED2017  1503792000          2         Pierre Thiam   \n",
       "2541  TEDxManchester  1487462400          2        Helen Czerski   \n",
       "2542  TEDGlobal 2017  1503792000          1   Sethembile Msezane   \n",
       "2545         TED2017  1496707200          4     Duarte Geraldino   \n",
       "2549         TED2017  1492992000          1    Karoliina Korppoo   \n",
       "\n",
       "                                                   name  num_speaker  \\\n",
       "1                  Al Gore: Averting the climate crisis            1   \n",
       "4         Hans Rosling: The best stats you've ever seen            1   \n",
       "7     Joshua Prince-Ramus: Behind the design of Seat...            1   \n",
       "11        Jehane Noujaim: My wish: A global day of film            1   \n",
       "14            Nicholas Negroponte: One Laptop per Child            1   \n",
       "...                                                 ...          ...   \n",
       "2539  Pierre Thiam: A forgotten ancient grain that c...            1   \n",
       "2541  Helen Czerski: The fascinating physics of ever...            1   \n",
       "2542  Sethembile Msezane: Living sculptures that sta...            1   \n",
       "2545  Duarte Geraldino: What we're missing in the de...            1   \n",
       "2549  Karoliina Korppoo: How a video game might help...            1   \n",
       "\n",
       "      published_date  ...                                              title  \\\n",
       "1         1151367060  ...                        Averting the climate crisis   \n",
       "4         1151440680  ...                    The best stats you've ever seen   \n",
       "7         1152490260  ...             Behind the design of Seattle's library   \n",
       "11        1153786260  ...                      My wish: A global day of film   \n",
       "14        1154391060  ...                               One Laptop per Child   \n",
       "...              ...  ...                                                ...   \n",
       "2539      1505313942  ...  A forgotten ancient grain that could help Afri...   \n",
       "2541      1505419202  ...           The fascinating physics of everyday life   \n",
       "2542      1505488093  ...  Living sculptures that stand for history's truths   \n",
       "2545      1505851216  ...  What we're missing in the debate about immigra...   \n",
       "2549      1506092422  ...  How a video game might help us build better ci...   \n",
       "\n",
       "                                                    url     views  \\\n",
       "1     https://www.ted.com/talks/al_gore_on_averting_...   3200520   \n",
       "4     https://www.ted.com/talks/hans_rosling_shows_t...  12005869   \n",
       "7     https://www.ted.com/talks/joshua_prince_ramus_...    967741   \n",
       "11    https://www.ted.com/talks/jehane_noujaim_inspi...    387877   \n",
       "14    https://www.ted.com/talks/nicholas_negroponte_...    358304   \n",
       "...                                                 ...       ...   \n",
       "2539  https://www.ted.com/talks/pierre_thiam_a_forgo...    527314   \n",
       "2541  https://www.ted.com/talks/helen_czerski_fun_ho...    656791   \n",
       "2542  https://www.ted.com/talks/sethembile_msezane_l...    542088   \n",
       "2545  https://www.ted.com/talks/duarte_geraldino_wha...    450430   \n",
       "2549  https://www.ted.com/talks/karoliina_korppoo_ho...    391721   \n",
       "\n",
       "     comments_per_view views_per_comments film_datetime  \\\n",
       "1             0.000083       12077.433962    2006-02-25   \n",
       "4             0.000049       20245.984823    2006-02-22   \n",
       "7             0.000048       21037.847826    2006-02-23   \n",
       "11            0.000142        7052.309091    2006-02-26   \n",
       "14            0.000276        3619.232323    2006-02-23   \n",
       "...                ...                ...           ...   \n",
       "2539          0.000019       52731.400000    2017-08-27   \n",
       "2541          0.000018       54732.583333    2017-02-19   \n",
       "2542          0.000006      180696.000000    2017-08-27   \n",
       "2545          0.000038       26495.882353    2017-06-06   \n",
       "2549          0.000020       48965.125000    2017-04-24   \n",
       "\n",
       "                                           ratings_list  num_ratings  \\\n",
       "1     [{'id': 7, 'name': 'Funny', 'count': 544}, {'i...         2936   \n",
       "4     [{'id': 9, 'name': 'Ingenious', 'count': 3202}...        25620   \n",
       "7     [{'id': 9, 'name': 'Ingenious', 'count': 195},...         1024   \n",
       "11    [{'id': 1, 'name': 'Beautiful', 'count': 70}, ...          592   \n",
       "14    [{'id': 3, 'name': 'Courageous', 'count': 83},...          781   \n",
       "...                                                 ...          ...   \n",
       "2539  [{'id': 10, 'name': 'Inspiring', 'count': 73},...          256   \n",
       "2541  [{'id': 11, 'name': 'Longwinded', 'count': 29}...          378   \n",
       "2542  [{'id': 1, 'name': 'Beautiful', 'count': 41}, ...          181   \n",
       "2545  [{'id': 3, 'name': 'Courageous', 'count': 24},...          192   \n",
       "2549  [{'id': 21, 'name': 'Unconvincing', 'count': 2...          142   \n",
       "\n",
       "      funny_ratings funny_rate  \n",
       "1               544   0.185286  \n",
       "4              1390   0.054254  \n",
       "7                 9   0.008789  \n",
       "11                5   0.008446  \n",
       "14               14   0.017926  \n",
       "...             ...        ...  \n",
       "2539              2   0.007812  \n",
       "2541             39   0.103175  \n",
       "2542              6   0.033149  \n",
       "2545              1   0.005208  \n",
       "2549              0   0.000000  \n",
       "\n",
       "[786 rows x 24 columns]"
      ]
     },
     "execution_count": 170,
     "metadata": {},
     "output_type": "execute_result"
    }
   ],
   "source": [
    "ted[ted.speaker_occupation.isin(top_occupations)]"
   ]
  }
 ],
 "metadata": {
  "kernelspec": {
   "display_name": "Python 3",
   "language": "python",
   "name": "python3"
  },
  "language_info": {
   "codemirror_mode": {
    "name": "ipython",
    "version": 3
   },
   "file_extension": ".py",
   "mimetype": "text/x-python",
   "name": "python",
   "nbconvert_exporter": "python",
   "pygments_lexer": "ipython3",
   "version": "3.7.3"
  }
 },
 "nbformat": 4,
 "nbformat_minor": 2
}
